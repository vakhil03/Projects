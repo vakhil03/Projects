{
 "cells": [
  {
   "cell_type": "code",
   "execution_count": 1,
   "id": "e9e56b53",
   "metadata": {
    "_cell_guid": "b1076dfc-b9ad-4769-8c92-a6c4dae69d19",
    "_uuid": "8f2839f25d086af736a60e9eeb907d3b93b6e0e5",
    "execution": {
     "iopub.execute_input": "2022-04-30T21:52:55.098034Z",
     "iopub.status.busy": "2022-04-30T21:52:55.097702Z",
     "iopub.status.idle": "2022-04-30T21:52:57.253503Z",
     "shell.execute_reply": "2022-04-30T21:52:57.252306Z"
    },
    "papermill": {
     "duration": 2.208796,
     "end_time": "2022-04-30T21:52:57.256100",
     "exception": false,
     "start_time": "2022-04-30T21:52:55.047304",
     "status": "completed"
    },
    "tags": []
   },
   "outputs": [
    {
     "name": "stdout",
     "output_type": "stream",
     "text": [
      "/kaggle/input/sp22-cx-kaggle-competition/sample_submission.csv\n",
      "/kaggle/input/sp22-cx-kaggle-competition/train.csv\n",
      "/kaggle/input/sp22-cx-kaggle-competition/test.csv\n"
     ]
    }
   ],
   "source": [
    "# This Python 3 environment comes with many helpful analytics libraries installed\n",
    "# It is defined by the kaggle/python Docker image: https://github.com/kaggle/docker-python\n",
    "# For example, here's several helpful packages to load\n",
    "\n",
    "import numpy as np # linear algebra\n",
    "import pandas as pd # data processing, CSV file I/O (e.g. pd.read_csv)\n",
    "import matplotlib.pyplot as plt\n",
    "import seaborn as sns\n",
    "import sklearn as sk\n",
    "import statsmodels.api as sm\n",
    "\n",
    "# Input data files are available in the read-only \"../input/\" directory\n",
    "# For example, running this (by clicking run or pressing Shift+Enter) will list all files under the input directory\n",
    "\n",
    "import os\n",
    "for dirname, _, filenames in os.walk('/kaggle/input'):\n",
    "    for filename in filenames:\n",
    "        print(os.path.join(dirname, filename))\n",
    "\n",
    "# You can write up to 20GB to the current directory (/kaggle/working/) that gets preserved as output when you create a version using \"Save & Run All\" \n",
    "# You can also write temporary files to /kaggle/temp/, but they won't be saved outside of the current session"
   ]
  },
  {
   "cell_type": "code",
   "execution_count": 2,
   "id": "b019f1de",
   "metadata": {
    "execution": {
     "iopub.execute_input": "2022-04-30T21:52:57.353854Z",
     "iopub.status.busy": "2022-04-30T21:52:57.353252Z",
     "iopub.status.idle": "2022-04-30T21:52:57.867737Z",
     "shell.execute_reply": "2022-04-30T21:52:57.867048Z"
    },
    "papermill": {
     "duration": 0.565637,
     "end_time": "2022-04-30T21:52:57.870173",
     "exception": false,
     "start_time": "2022-04-30T21:52:57.304536",
     "status": "completed"
    },
    "tags": []
   },
   "outputs": [],
   "source": [
    "train = pd.read_csv('/kaggle/input/sp22-cx-kaggle-competition/train.csv')\n",
    "test = pd.read_csv('/kaggle/input/sp22-cx-kaggle-competition/test.csv')"
   ]
  },
  {
   "cell_type": "code",
   "execution_count": 3,
   "id": "71e6ba19",
   "metadata": {
    "execution": {
     "iopub.execute_input": "2022-04-30T21:52:57.968753Z",
     "iopub.status.busy": "2022-04-30T21:52:57.968215Z",
     "iopub.status.idle": "2022-04-30T21:52:58.002571Z",
     "shell.execute_reply": "2022-04-30T21:52:58.001922Z"
    },
    "papermill": {
     "duration": 0.086166,
     "end_time": "2022-04-30T21:52:58.005654",
     "exception": false,
     "start_time": "2022-04-30T21:52:57.919488",
     "status": "completed"
    },
    "tags": []
   },
   "outputs": [
    {
     "data": {
      "text/html": [
       "<div>\n",
       "<style scoped>\n",
       "    .dataframe tbody tr th:only-of-type {\n",
       "        vertical-align: middle;\n",
       "    }\n",
       "\n",
       "    .dataframe tbody tr th {\n",
       "        vertical-align: top;\n",
       "    }\n",
       "\n",
       "    .dataframe thead th {\n",
       "        text-align: right;\n",
       "    }\n",
       "</style>\n",
       "<table border=\"1\" class=\"dataframe\">\n",
       "  <thead>\n",
       "    <tr style=\"text-align: right;\">\n",
       "      <th></th>\n",
       "      <th>Unnamed: 0</th>\n",
       "      <th>timestamp</th>\n",
       "      <th>company</th>\n",
       "      <th>level</th>\n",
       "      <th>title</th>\n",
       "      <th>totalyearlycompensation</th>\n",
       "      <th>location</th>\n",
       "      <th>yearsofexperience</th>\n",
       "      <th>yearsatcompany</th>\n",
       "      <th>tag</th>\n",
       "      <th>...</th>\n",
       "      <th>Doctorate_Degree</th>\n",
       "      <th>Highschool</th>\n",
       "      <th>Some_College</th>\n",
       "      <th>Race_Asian</th>\n",
       "      <th>Race_White</th>\n",
       "      <th>Race_Two_Or_More</th>\n",
       "      <th>Race_Black</th>\n",
       "      <th>Race_Hispanic</th>\n",
       "      <th>Race</th>\n",
       "      <th>Education</th>\n",
       "    </tr>\n",
       "  </thead>\n",
       "  <tbody>\n",
       "    <tr>\n",
       "      <th>0</th>\n",
       "      <td>0</td>\n",
       "      <td>3/28/2021 15:48:22</td>\n",
       "      <td>Ernst and Young</td>\n",
       "      <td>Senior Consultant</td>\n",
       "      <td>Management Consultant</td>\n",
       "      <td>135000</td>\n",
       "      <td>Atlanta, GA</td>\n",
       "      <td>2.0</td>\n",
       "      <td>0.0</td>\n",
       "      <td>Data &amp; Analytics Consulting</td>\n",
       "      <td>...</td>\n",
       "      <td>0</td>\n",
       "      <td>0</td>\n",
       "      <td>0</td>\n",
       "      <td>0</td>\n",
       "      <td>0</td>\n",
       "      <td>0</td>\n",
       "      <td>0</td>\n",
       "      <td>1</td>\n",
       "      <td>Hispanic</td>\n",
       "      <td>Master's Degree</td>\n",
       "    </tr>\n",
       "    <tr>\n",
       "      <th>1</th>\n",
       "      <td>1</td>\n",
       "      <td>4/3/2021 18:41:29</td>\n",
       "      <td>Deloitte</td>\n",
       "      <td>Senior Manager</td>\n",
       "      <td>Management Consultant</td>\n",
       "      <td>216000</td>\n",
       "      <td>Baltimore, MD</td>\n",
       "      <td>15.0</td>\n",
       "      <td>4.0</td>\n",
       "      <td>General</td>\n",
       "      <td>...</td>\n",
       "      <td>0</td>\n",
       "      <td>0</td>\n",
       "      <td>0</td>\n",
       "      <td>0</td>\n",
       "      <td>0</td>\n",
       "      <td>0</td>\n",
       "      <td>0</td>\n",
       "      <td>0</td>\n",
       "      <td>NaN</td>\n",
       "      <td>NaN</td>\n",
       "    </tr>\n",
       "    <tr>\n",
       "      <th>2</th>\n",
       "      <td>2</td>\n",
       "      <td>2/2/2021 13:05:18</td>\n",
       "      <td>Amazon</td>\n",
       "      <td>L4</td>\n",
       "      <td>Software Engineer</td>\n",
       "      <td>192000</td>\n",
       "      <td>New York, NY</td>\n",
       "      <td>2.0</td>\n",
       "      <td>0.0</td>\n",
       "      <td>API Development (Back-End)</td>\n",
       "      <td>...</td>\n",
       "      <td>0</td>\n",
       "      <td>0</td>\n",
       "      <td>0</td>\n",
       "      <td>0</td>\n",
       "      <td>1</td>\n",
       "      <td>0</td>\n",
       "      <td>0</td>\n",
       "      <td>0</td>\n",
       "      <td>White</td>\n",
       "      <td>Bachelor's Degree</td>\n",
       "    </tr>\n",
       "    <tr>\n",
       "      <th>3</th>\n",
       "      <td>3</td>\n",
       "      <td>7/19/2021 1:37:17</td>\n",
       "      <td>Oracle</td>\n",
       "      <td>IC-2</td>\n",
       "      <td>Software Engineer</td>\n",
       "      <td>235000</td>\n",
       "      <td>Redwood City, CA</td>\n",
       "      <td>1.0</td>\n",
       "      <td>1.0</td>\n",
       "      <td>Distributed Systems (Back-End)</td>\n",
       "      <td>...</td>\n",
       "      <td>0</td>\n",
       "      <td>0</td>\n",
       "      <td>0</td>\n",
       "      <td>1</td>\n",
       "      <td>0</td>\n",
       "      <td>0</td>\n",
       "      <td>0</td>\n",
       "      <td>0</td>\n",
       "      <td>Asian</td>\n",
       "      <td>Master's Degree</td>\n",
       "    </tr>\n",
       "    <tr>\n",
       "      <th>4</th>\n",
       "      <td>4</td>\n",
       "      <td>3/29/2021 21:27:36</td>\n",
       "      <td>Wayfair</td>\n",
       "      <td>L3</td>\n",
       "      <td>Software Engineer</td>\n",
       "      <td>177000</td>\n",
       "      <td>Boston, MA</td>\n",
       "      <td>9.0</td>\n",
       "      <td>0.0</td>\n",
       "      <td>API Development (Back-End)</td>\n",
       "      <td>...</td>\n",
       "      <td>0</td>\n",
       "      <td>0</td>\n",
       "      <td>0</td>\n",
       "      <td>1</td>\n",
       "      <td>0</td>\n",
       "      <td>0</td>\n",
       "      <td>0</td>\n",
       "      <td>0</td>\n",
       "      <td>Asian</td>\n",
       "      <td>Bachelor's Degree</td>\n",
       "    </tr>\n",
       "  </tbody>\n",
       "</table>\n",
       "<p>5 rows × 27 columns</p>\n",
       "</div>"
      ],
      "text/plain": [
       "   Unnamed: 0           timestamp          company              level  \\\n",
       "0           0  3/28/2021 15:48:22  Ernst and Young  Senior Consultant   \n",
       "1           1   4/3/2021 18:41:29         Deloitte     Senior Manager   \n",
       "2           2   2/2/2021 13:05:18           Amazon                 L4   \n",
       "3           3   7/19/2021 1:37:17           Oracle               IC-2   \n",
       "4           4  3/29/2021 21:27:36          Wayfair                 L3   \n",
       "\n",
       "                   title  totalyearlycompensation          location  \\\n",
       "0  Management Consultant                   135000       Atlanta, GA   \n",
       "1  Management Consultant                   216000     Baltimore, MD   \n",
       "2      Software Engineer                   192000      New York, NY   \n",
       "3      Software Engineer                   235000  Redwood City, CA   \n",
       "4      Software Engineer                   177000        Boston, MA   \n",
       "\n",
       "   yearsofexperience  yearsatcompany                             tag  ...  \\\n",
       "0                2.0             0.0     Data & Analytics Consulting  ...   \n",
       "1               15.0             4.0                         General  ...   \n",
       "2                2.0             0.0      API Development (Back-End)  ...   \n",
       "3                1.0             1.0  Distributed Systems (Back-End)  ...   \n",
       "4                9.0             0.0      API Development (Back-End)  ...   \n",
       "\n",
       "   Doctorate_Degree  Highschool Some_College Race_Asian  Race_White  \\\n",
       "0                 0           0            0          0           0   \n",
       "1                 0           0            0          0           0   \n",
       "2                 0           0            0          0           1   \n",
       "3                 0           0            0          1           0   \n",
       "4                 0           0            0          1           0   \n",
       "\n",
       "   Race_Two_Or_More  Race_Black  Race_Hispanic      Race          Education  \n",
       "0                 0           0              1  Hispanic    Master's Degree  \n",
       "1                 0           0              0       NaN                NaN  \n",
       "2                 0           0              0     White  Bachelor's Degree  \n",
       "3                 0           0              0     Asian    Master's Degree  \n",
       "4                 0           0              0     Asian  Bachelor's Degree  \n",
       "\n",
       "[5 rows x 27 columns]"
      ]
     },
     "execution_count": 3,
     "metadata": {},
     "output_type": "execute_result"
    }
   ],
   "source": [
    "train.head()"
   ]
  },
  {
   "cell_type": "code",
   "execution_count": 4,
   "id": "e86f20d6",
   "metadata": {
    "execution": {
     "iopub.execute_input": "2022-04-30T21:52:58.104680Z",
     "iopub.status.busy": "2022-04-30T21:52:58.104112Z",
     "iopub.status.idle": "2022-04-30T21:52:58.127135Z",
     "shell.execute_reply": "2022-04-30T21:52:58.126238Z"
    },
    "papermill": {
     "duration": 0.074253,
     "end_time": "2022-04-30T21:52:58.129469",
     "exception": false,
     "start_time": "2022-04-30T21:52:58.055216",
     "status": "completed"
    },
    "tags": []
   },
   "outputs": [
    {
     "data": {
      "text/html": [
       "<div>\n",
       "<style scoped>\n",
       "    .dataframe tbody tr th:only-of-type {\n",
       "        vertical-align: middle;\n",
       "    }\n",
       "\n",
       "    .dataframe tbody tr th {\n",
       "        vertical-align: top;\n",
       "    }\n",
       "\n",
       "    .dataframe thead th {\n",
       "        text-align: right;\n",
       "    }\n",
       "</style>\n",
       "<table border=\"1\" class=\"dataframe\">\n",
       "  <thead>\n",
       "    <tr style=\"text-align: right;\">\n",
       "      <th></th>\n",
       "      <th>Unnamed: 0</th>\n",
       "      <th>timestamp</th>\n",
       "      <th>company</th>\n",
       "      <th>level</th>\n",
       "      <th>title</th>\n",
       "      <th>location</th>\n",
       "      <th>yearsofexperience</th>\n",
       "      <th>yearsatcompany</th>\n",
       "      <th>tag</th>\n",
       "      <th>stockgrantvalue</th>\n",
       "      <th>...</th>\n",
       "      <th>Doctorate_Degree</th>\n",
       "      <th>Highschool</th>\n",
       "      <th>Some_College</th>\n",
       "      <th>Race_Asian</th>\n",
       "      <th>Race_White</th>\n",
       "      <th>Race_Two_Or_More</th>\n",
       "      <th>Race_Black</th>\n",
       "      <th>Race_Hispanic</th>\n",
       "      <th>Race</th>\n",
       "      <th>Education</th>\n",
       "    </tr>\n",
       "  </thead>\n",
       "  <tbody>\n",
       "    <tr>\n",
       "      <th>0</th>\n",
       "      <td>0</td>\n",
       "      <td>9/15/2019 1:34:10</td>\n",
       "      <td>Uber</td>\n",
       "      <td>L4</td>\n",
       "      <td>Software Engineer</td>\n",
       "      <td>Amsterdam, NH, Netherlands</td>\n",
       "      <td>4.0</td>\n",
       "      <td>0.0</td>\n",
       "      <td>Full Stack</td>\n",
       "      <td>6000.0</td>\n",
       "      <td>...</td>\n",
       "      <td>0</td>\n",
       "      <td>0</td>\n",
       "      <td>0</td>\n",
       "      <td>0</td>\n",
       "      <td>0</td>\n",
       "      <td>0</td>\n",
       "      <td>0</td>\n",
       "      <td>0</td>\n",
       "      <td>NaN</td>\n",
       "      <td>NaN</td>\n",
       "    </tr>\n",
       "    <tr>\n",
       "      <th>1</th>\n",
       "      <td>1</td>\n",
       "      <td>12/28/2020 18:56:43</td>\n",
       "      <td>CrowdStrike</td>\n",
       "      <td>Senior Software Engineer</td>\n",
       "      <td>Software Engineer</td>\n",
       "      <td>Chicago, IL</td>\n",
       "      <td>10.0</td>\n",
       "      <td>1.0</td>\n",
       "      <td>Distributed Systems (Back-End)</td>\n",
       "      <td>74000.0</td>\n",
       "      <td>...</td>\n",
       "      <td>0</td>\n",
       "      <td>0</td>\n",
       "      <td>0</td>\n",
       "      <td>0</td>\n",
       "      <td>0</td>\n",
       "      <td>0</td>\n",
       "      <td>0</td>\n",
       "      <td>0</td>\n",
       "      <td>NaN</td>\n",
       "      <td>NaN</td>\n",
       "    </tr>\n",
       "    <tr>\n",
       "      <th>2</th>\n",
       "      <td>2</td>\n",
       "      <td>3/4/2019 2:57:57</td>\n",
       "      <td>Amazon</td>\n",
       "      <td>L5</td>\n",
       "      <td>Solution Architect</td>\n",
       "      <td>Sydney, NS, Australia</td>\n",
       "      <td>10.0</td>\n",
       "      <td>5.0</td>\n",
       "      <td>DevOps</td>\n",
       "      <td>40000.0</td>\n",
       "      <td>...</td>\n",
       "      <td>0</td>\n",
       "      <td>0</td>\n",
       "      <td>0</td>\n",
       "      <td>0</td>\n",
       "      <td>0</td>\n",
       "      <td>0</td>\n",
       "      <td>0</td>\n",
       "      <td>0</td>\n",
       "      <td>NaN</td>\n",
       "      <td>NaN</td>\n",
       "    </tr>\n",
       "    <tr>\n",
       "      <th>3</th>\n",
       "      <td>3</td>\n",
       "      <td>4/9/2021 11:38:55</td>\n",
       "      <td>Deutsche Bank</td>\n",
       "      <td>Analyst</td>\n",
       "      <td>Software Engineer</td>\n",
       "      <td>Cary, NC</td>\n",
       "      <td>2.0</td>\n",
       "      <td>2.0</td>\n",
       "      <td>Full Stack</td>\n",
       "      <td>0.0</td>\n",
       "      <td>...</td>\n",
       "      <td>0</td>\n",
       "      <td>0</td>\n",
       "      <td>0</td>\n",
       "      <td>1</td>\n",
       "      <td>0</td>\n",
       "      <td>0</td>\n",
       "      <td>0</td>\n",
       "      <td>0</td>\n",
       "      <td>Asian</td>\n",
       "      <td>Bachelor's Degree</td>\n",
       "    </tr>\n",
       "    <tr>\n",
       "      <th>4</th>\n",
       "      <td>4</td>\n",
       "      <td>1/20/2020 1:21:37</td>\n",
       "      <td>Cisco</td>\n",
       "      <td>Grade 8</td>\n",
       "      <td>Software Engineer</td>\n",
       "      <td>San Jose, CA</td>\n",
       "      <td>5.0</td>\n",
       "      <td>1.0</td>\n",
       "      <td>Networking</td>\n",
       "      <td>15000.0</td>\n",
       "      <td>...</td>\n",
       "      <td>0</td>\n",
       "      <td>0</td>\n",
       "      <td>0</td>\n",
       "      <td>0</td>\n",
       "      <td>0</td>\n",
       "      <td>0</td>\n",
       "      <td>0</td>\n",
       "      <td>0</td>\n",
       "      <td>NaN</td>\n",
       "      <td>Master's Degree</td>\n",
       "    </tr>\n",
       "  </tbody>\n",
       "</table>\n",
       "<p>5 rows × 26 columns</p>\n",
       "</div>"
      ],
      "text/plain": [
       "   Unnamed: 0            timestamp        company                     level  \\\n",
       "0           0    9/15/2019 1:34:10           Uber                        L4   \n",
       "1           1  12/28/2020 18:56:43    CrowdStrike  Senior Software Engineer   \n",
       "2           2     3/4/2019 2:57:57         Amazon                        L5   \n",
       "3           3    4/9/2021 11:38:55  Deutsche Bank                   Analyst   \n",
       "4           4    1/20/2020 1:21:37          Cisco                   Grade 8   \n",
       "\n",
       "                title                    location  yearsofexperience  \\\n",
       "0   Software Engineer  Amsterdam, NH, Netherlands                4.0   \n",
       "1   Software Engineer                 Chicago, IL               10.0   \n",
       "2  Solution Architect       Sydney, NS, Australia               10.0   \n",
       "3   Software Engineer                    Cary, NC                2.0   \n",
       "4   Software Engineer                San Jose, CA                5.0   \n",
       "\n",
       "   yearsatcompany                             tag  stockgrantvalue  ...  \\\n",
       "0             0.0                      Full Stack           6000.0  ...   \n",
       "1             1.0  Distributed Systems (Back-End)          74000.0  ...   \n",
       "2             5.0                          DevOps          40000.0  ...   \n",
       "3             2.0                      Full Stack              0.0  ...   \n",
       "4             1.0                      Networking          15000.0  ...   \n",
       "\n",
       "   Doctorate_Degree Highschool Some_College  Race_Asian  Race_White  \\\n",
       "0                 0          0            0           0           0   \n",
       "1                 0          0            0           0           0   \n",
       "2                 0          0            0           0           0   \n",
       "3                 0          0            0           1           0   \n",
       "4                 0          0            0           0           0   \n",
       "\n",
       "   Race_Two_Or_More  Race_Black  Race_Hispanic   Race          Education  \n",
       "0                 0           0              0    NaN                NaN  \n",
       "1                 0           0              0    NaN                NaN  \n",
       "2                 0           0              0    NaN                NaN  \n",
       "3                 0           0              0  Asian  Bachelor's Degree  \n",
       "4                 0           0              0    NaN    Master's Degree  \n",
       "\n",
       "[5 rows x 26 columns]"
      ]
     },
     "execution_count": 4,
     "metadata": {},
     "output_type": "execute_result"
    }
   ],
   "source": [
    "test.head()"
   ]
  },
  {
   "cell_type": "code",
   "execution_count": 5,
   "id": "4f0ae6cd",
   "metadata": {
    "execution": {
     "iopub.execute_input": "2022-04-30T21:52:58.229022Z",
     "iopub.status.busy": "2022-04-30T21:52:58.228714Z",
     "iopub.status.idle": "2022-04-30T21:52:58.282648Z",
     "shell.execute_reply": "2022-04-30T21:52:58.281677Z"
    },
    "papermill": {
     "duration": 0.10652,
     "end_time": "2022-04-30T21:52:58.285110",
     "exception": false,
     "start_time": "2022-04-30T21:52:58.178590",
     "status": "completed"
    },
    "tags": []
   },
   "outputs": [
    {
     "data": {
      "text/html": [
       "<div>\n",
       "<style scoped>\n",
       "    .dataframe tbody tr th:only-of-type {\n",
       "        vertical-align: middle;\n",
       "    }\n",
       "\n",
       "    .dataframe tbody tr th {\n",
       "        vertical-align: top;\n",
       "    }\n",
       "\n",
       "    .dataframe thead th {\n",
       "        text-align: right;\n",
       "    }\n",
       "</style>\n",
       "<table border=\"1\" class=\"dataframe\">\n",
       "  <thead>\n",
       "    <tr style=\"text-align: right;\">\n",
       "      <th></th>\n",
       "      <th>Unnamed: 0</th>\n",
       "      <th>timestamp</th>\n",
       "      <th>company</th>\n",
       "      <th>level</th>\n",
       "      <th>title</th>\n",
       "      <th>totalyearlycompensation</th>\n",
       "      <th>location</th>\n",
       "      <th>yearsofexperience</th>\n",
       "      <th>yearsatcompany</th>\n",
       "      <th>tag</th>\n",
       "      <th>...</th>\n",
       "      <th>Doctorate_Degree</th>\n",
       "      <th>Highschool</th>\n",
       "      <th>Some_College</th>\n",
       "      <th>Race_Asian</th>\n",
       "      <th>Race_White</th>\n",
       "      <th>Race_Two_Or_More</th>\n",
       "      <th>Race_Black</th>\n",
       "      <th>Race_Hispanic</th>\n",
       "      <th>Race</th>\n",
       "      <th>Education</th>\n",
       "    </tr>\n",
       "  </thead>\n",
       "  <tbody>\n",
       "    <tr>\n",
       "      <th>0</th>\n",
       "      <td>0</td>\n",
       "      <td>3/28/2021 15:48:22</td>\n",
       "      <td>Ernst and Young</td>\n",
       "      <td>Senior Consultant</td>\n",
       "      <td>Management Consultant</td>\n",
       "      <td>135000.0</td>\n",
       "      <td>Atlanta, GA</td>\n",
       "      <td>2.0</td>\n",
       "      <td>0.0</td>\n",
       "      <td>Data &amp; Analytics Consulting</td>\n",
       "      <td>...</td>\n",
       "      <td>0</td>\n",
       "      <td>0</td>\n",
       "      <td>0</td>\n",
       "      <td>0</td>\n",
       "      <td>0</td>\n",
       "      <td>0</td>\n",
       "      <td>0</td>\n",
       "      <td>1</td>\n",
       "      <td>Hispanic</td>\n",
       "      <td>Master's Degree</td>\n",
       "    </tr>\n",
       "    <tr>\n",
       "      <th>1</th>\n",
       "      <td>1</td>\n",
       "      <td>4/3/2021 18:41:29</td>\n",
       "      <td>Deloitte</td>\n",
       "      <td>Senior Manager</td>\n",
       "      <td>Management Consultant</td>\n",
       "      <td>216000.0</td>\n",
       "      <td>Baltimore, MD</td>\n",
       "      <td>15.0</td>\n",
       "      <td>4.0</td>\n",
       "      <td>General</td>\n",
       "      <td>...</td>\n",
       "      <td>0</td>\n",
       "      <td>0</td>\n",
       "      <td>0</td>\n",
       "      <td>0</td>\n",
       "      <td>0</td>\n",
       "      <td>0</td>\n",
       "      <td>0</td>\n",
       "      <td>0</td>\n",
       "      <td>NaN</td>\n",
       "      <td>NaN</td>\n",
       "    </tr>\n",
       "    <tr>\n",
       "      <th>2</th>\n",
       "      <td>2</td>\n",
       "      <td>2/2/2021 13:05:18</td>\n",
       "      <td>Amazon</td>\n",
       "      <td>L4</td>\n",
       "      <td>Software Engineer</td>\n",
       "      <td>192000.0</td>\n",
       "      <td>New York, NY</td>\n",
       "      <td>2.0</td>\n",
       "      <td>0.0</td>\n",
       "      <td>API Development (Back-End)</td>\n",
       "      <td>...</td>\n",
       "      <td>0</td>\n",
       "      <td>0</td>\n",
       "      <td>0</td>\n",
       "      <td>0</td>\n",
       "      <td>1</td>\n",
       "      <td>0</td>\n",
       "      <td>0</td>\n",
       "      <td>0</td>\n",
       "      <td>White</td>\n",
       "      <td>Bachelor's Degree</td>\n",
       "    </tr>\n",
       "    <tr>\n",
       "      <th>3</th>\n",
       "      <td>3</td>\n",
       "      <td>7/19/2021 1:37:17</td>\n",
       "      <td>Oracle</td>\n",
       "      <td>IC-2</td>\n",
       "      <td>Software Engineer</td>\n",
       "      <td>235000.0</td>\n",
       "      <td>Redwood City, CA</td>\n",
       "      <td>1.0</td>\n",
       "      <td>1.0</td>\n",
       "      <td>Distributed Systems (Back-End)</td>\n",
       "      <td>...</td>\n",
       "      <td>0</td>\n",
       "      <td>0</td>\n",
       "      <td>0</td>\n",
       "      <td>1</td>\n",
       "      <td>0</td>\n",
       "      <td>0</td>\n",
       "      <td>0</td>\n",
       "      <td>0</td>\n",
       "      <td>Asian</td>\n",
       "      <td>Master's Degree</td>\n",
       "    </tr>\n",
       "    <tr>\n",
       "      <th>4</th>\n",
       "      <td>4</td>\n",
       "      <td>3/29/2021 21:27:36</td>\n",
       "      <td>Wayfair</td>\n",
       "      <td>L3</td>\n",
       "      <td>Software Engineer</td>\n",
       "      <td>177000.0</td>\n",
       "      <td>Boston, MA</td>\n",
       "      <td>9.0</td>\n",
       "      <td>0.0</td>\n",
       "      <td>API Development (Back-End)</td>\n",
       "      <td>...</td>\n",
       "      <td>0</td>\n",
       "      <td>0</td>\n",
       "      <td>0</td>\n",
       "      <td>1</td>\n",
       "      <td>0</td>\n",
       "      <td>0</td>\n",
       "      <td>0</td>\n",
       "      <td>0</td>\n",
       "      <td>Asian</td>\n",
       "      <td>Bachelor's Degree</td>\n",
       "    </tr>\n",
       "  </tbody>\n",
       "</table>\n",
       "<p>5 rows × 27 columns</p>\n",
       "</div>"
      ],
      "text/plain": [
       "   Unnamed: 0           timestamp          company              level  \\\n",
       "0           0  3/28/2021 15:48:22  Ernst and Young  Senior Consultant   \n",
       "1           1   4/3/2021 18:41:29         Deloitte     Senior Manager   \n",
       "2           2   2/2/2021 13:05:18           Amazon                 L4   \n",
       "3           3   7/19/2021 1:37:17           Oracle               IC-2   \n",
       "4           4  3/29/2021 21:27:36          Wayfair                 L3   \n",
       "\n",
       "                   title  totalyearlycompensation          location  \\\n",
       "0  Management Consultant                 135000.0       Atlanta, GA   \n",
       "1  Management Consultant                 216000.0     Baltimore, MD   \n",
       "2      Software Engineer                 192000.0      New York, NY   \n",
       "3      Software Engineer                 235000.0  Redwood City, CA   \n",
       "4      Software Engineer                 177000.0        Boston, MA   \n",
       "\n",
       "   yearsofexperience  yearsatcompany                             tag  ...  \\\n",
       "0                2.0             0.0     Data & Analytics Consulting  ...   \n",
       "1               15.0             4.0                         General  ...   \n",
       "2                2.0             0.0      API Development (Back-End)  ...   \n",
       "3                1.0             1.0  Distributed Systems (Back-End)  ...   \n",
       "4                9.0             0.0      API Development (Back-End)  ...   \n",
       "\n",
       "   Doctorate_Degree  Highschool Some_College Race_Asian  Race_White  \\\n",
       "0                 0           0            0          0           0   \n",
       "1                 0           0            0          0           0   \n",
       "2                 0           0            0          0           1   \n",
       "3                 0           0            0          1           0   \n",
       "4                 0           0            0          1           0   \n",
       "\n",
       "   Race_Two_Or_More  Race_Black  Race_Hispanic      Race          Education  \n",
       "0                 0           0              1  Hispanic    Master's Degree  \n",
       "1                 0           0              0       NaN                NaN  \n",
       "2                 0           0              0     White  Bachelor's Degree  \n",
       "3                 0           0              0     Asian    Master's Degree  \n",
       "4                 0           0              0     Asian  Bachelor's Degree  \n",
       "\n",
       "[5 rows x 27 columns]"
      ]
     },
     "execution_count": 5,
     "metadata": {},
     "output_type": "execute_result"
    }
   ],
   "source": [
    "train_test = pd.concat([train, test], axis=0)\n",
    "train_test.head()"
   ]
  },
  {
   "cell_type": "code",
   "execution_count": 6,
   "id": "87caf3bc",
   "metadata": {
    "execution": {
     "iopub.execute_input": "2022-04-30T21:52:58.385662Z",
     "iopub.status.busy": "2022-04-30T21:52:58.385391Z",
     "iopub.status.idle": "2022-04-30T21:52:58.521819Z",
     "shell.execute_reply": "2022-04-30T21:52:58.520745Z"
    },
    "papermill": {
     "duration": 0.188732,
     "end_time": "2022-04-30T21:52:58.524191",
     "exception": false,
     "start_time": "2022-04-30T21:52:58.335459",
     "status": "completed"
    },
    "tags": []
   },
   "outputs": [
    {
     "data": {
      "text/html": [
       "<div>\n",
       "<style scoped>\n",
       "    .dataframe tbody tr th:only-of-type {\n",
       "        vertical-align: middle;\n",
       "    }\n",
       "\n",
       "    .dataframe tbody tr th {\n",
       "        vertical-align: top;\n",
       "    }\n",
       "\n",
       "    .dataframe thead th {\n",
       "        text-align: right;\n",
       "    }\n",
       "</style>\n",
       "<table border=\"1\" class=\"dataframe\">\n",
       "  <thead>\n",
       "    <tr style=\"text-align: right;\">\n",
       "      <th></th>\n",
       "      <th>Unnamed: 0</th>\n",
       "      <th>totalyearlycompensation</th>\n",
       "      <th>yearsofexperience</th>\n",
       "      <th>yearsatcompany</th>\n",
       "      <th>stockgrantvalue</th>\n",
       "      <th>bonus</th>\n",
       "      <th>cityid</th>\n",
       "      <th>Masters_Degree</th>\n",
       "      <th>Bachelors_Degree</th>\n",
       "      <th>Doctorate_Degree</th>\n",
       "      <th>Highschool</th>\n",
       "      <th>Some_College</th>\n",
       "      <th>Race_Asian</th>\n",
       "      <th>Race_White</th>\n",
       "      <th>Race_Two_Or_More</th>\n",
       "      <th>Race_Black</th>\n",
       "      <th>Race_Hispanic</th>\n",
       "    </tr>\n",
       "  </thead>\n",
       "  <tbody>\n",
       "    <tr>\n",
       "      <th>count</th>\n",
       "      <td>62642.000000</td>\n",
       "      <td>5.011300e+04</td>\n",
       "      <td>62642.000000</td>\n",
       "      <td>62642.000000</td>\n",
       "      <td>6.264200e+04</td>\n",
       "      <td>62642.000000</td>\n",
       "      <td>62642.000000</td>\n",
       "      <td>62642.000000</td>\n",
       "      <td>62642.000000</td>\n",
       "      <td>62642.000000</td>\n",
       "      <td>62642.000000</td>\n",
       "      <td>62642.000000</td>\n",
       "      <td>62642.000000</td>\n",
       "      <td>62642.000000</td>\n",
       "      <td>62642.000000</td>\n",
       "      <td>62642.000000</td>\n",
       "      <td>62642.000000</td>\n",
       "    </tr>\n",
       "    <tr>\n",
       "      <th>mean</th>\n",
       "      <td>21297.420006</td>\n",
       "      <td>2.161279e+05</td>\n",
       "      <td>7.204135</td>\n",
       "      <td>2.702093</td>\n",
       "      <td>5.148608e+04</td>\n",
       "      <td>19334.746588</td>\n",
       "      <td>9856.201989</td>\n",
       "      <td>0.245698</td>\n",
       "      <td>0.201223</td>\n",
       "      <td>0.028783</td>\n",
       "      <td>0.005108</td>\n",
       "      <td>0.005667</td>\n",
       "      <td>0.187925</td>\n",
       "      <td>0.128221</td>\n",
       "      <td>0.012835</td>\n",
       "      <td>0.011015</td>\n",
       "      <td>0.018039</td>\n",
       "    </tr>\n",
       "    <tr>\n",
       "      <th>std</th>\n",
       "      <td>15051.350908</td>\n",
       "      <td>1.393194e+05</td>\n",
       "      <td>5.840375</td>\n",
       "      <td>3.263656</td>\n",
       "      <td>8.187457e+04</td>\n",
       "      <td>26781.292040</td>\n",
       "      <td>6679.104563</td>\n",
       "      <td>0.430504</td>\n",
       "      <td>0.400917</td>\n",
       "      <td>0.167196</td>\n",
       "      <td>0.071291</td>\n",
       "      <td>0.075067</td>\n",
       "      <td>0.390655</td>\n",
       "      <td>0.334338</td>\n",
       "      <td>0.112562</td>\n",
       "      <td>0.104373</td>\n",
       "      <td>0.133094</td>\n",
       "    </tr>\n",
       "    <tr>\n",
       "      <th>min</th>\n",
       "      <td>0.000000</td>\n",
       "      <td>1.000000e+04</td>\n",
       "      <td>0.000000</td>\n",
       "      <td>0.000000</td>\n",
       "      <td>0.000000e+00</td>\n",
       "      <td>0.000000</td>\n",
       "      <td>0.000000</td>\n",
       "      <td>0.000000</td>\n",
       "      <td>0.000000</td>\n",
       "      <td>0.000000</td>\n",
       "      <td>0.000000</td>\n",
       "      <td>0.000000</td>\n",
       "      <td>0.000000</td>\n",
       "      <td>0.000000</td>\n",
       "      <td>0.000000</td>\n",
       "      <td>0.000000</td>\n",
       "      <td>0.000000</td>\n",
       "    </tr>\n",
       "    <tr>\n",
       "      <th>25%</th>\n",
       "      <td>7830.000000</td>\n",
       "      <td>1.350000e+05</td>\n",
       "      <td>3.000000</td>\n",
       "      <td>0.000000</td>\n",
       "      <td>0.000000e+00</td>\n",
       "      <td>1000.000000</td>\n",
       "      <td>7369.000000</td>\n",
       "      <td>0.000000</td>\n",
       "      <td>0.000000</td>\n",
       "      <td>0.000000</td>\n",
       "      <td>0.000000</td>\n",
       "      <td>0.000000</td>\n",
       "      <td>0.000000</td>\n",
       "      <td>0.000000</td>\n",
       "      <td>0.000000</td>\n",
       "      <td>0.000000</td>\n",
       "      <td>0.000000</td>\n",
       "    </tr>\n",
       "    <tr>\n",
       "      <th>50%</th>\n",
       "      <td>18791.500000</td>\n",
       "      <td>1.880000e+05</td>\n",
       "      <td>6.000000</td>\n",
       "      <td>2.000000</td>\n",
       "      <td>2.500000e+04</td>\n",
       "      <td>14000.000000</td>\n",
       "      <td>7839.000000</td>\n",
       "      <td>0.000000</td>\n",
       "      <td>0.000000</td>\n",
       "      <td>0.000000</td>\n",
       "      <td>0.000000</td>\n",
       "      <td>0.000000</td>\n",
       "      <td>0.000000</td>\n",
       "      <td>0.000000</td>\n",
       "      <td>0.000000</td>\n",
       "      <td>0.000000</td>\n",
       "      <td>0.000000</td>\n",
       "    </tr>\n",
       "    <tr>\n",
       "      <th>75%</th>\n",
       "      <td>34451.750000</td>\n",
       "      <td>2.620000e+05</td>\n",
       "      <td>10.000000</td>\n",
       "      <td>4.000000</td>\n",
       "      <td>6.500000e+04</td>\n",
       "      <td>26000.000000</td>\n",
       "      <td>11521.000000</td>\n",
       "      <td>0.000000</td>\n",
       "      <td>0.000000</td>\n",
       "      <td>0.000000</td>\n",
       "      <td>0.000000</td>\n",
       "      <td>0.000000</td>\n",
       "      <td>0.000000</td>\n",
       "      <td>0.000000</td>\n",
       "      <td>0.000000</td>\n",
       "      <td>0.000000</td>\n",
       "      <td>0.000000</td>\n",
       "    </tr>\n",
       "    <tr>\n",
       "      <th>max</th>\n",
       "      <td>50112.000000</td>\n",
       "      <td>4.980000e+06</td>\n",
       "      <td>69.000000</td>\n",
       "      <td>69.000000</td>\n",
       "      <td>2.800000e+06</td>\n",
       "      <td>1000000.000000</td>\n",
       "      <td>47926.000000</td>\n",
       "      <td>1.000000</td>\n",
       "      <td>1.000000</td>\n",
       "      <td>1.000000</td>\n",
       "      <td>1.000000</td>\n",
       "      <td>1.000000</td>\n",
       "      <td>1.000000</td>\n",
       "      <td>1.000000</td>\n",
       "      <td>1.000000</td>\n",
       "      <td>1.000000</td>\n",
       "      <td>1.000000</td>\n",
       "    </tr>\n",
       "  </tbody>\n",
       "</table>\n",
       "</div>"
      ],
      "text/plain": [
       "         Unnamed: 0  totalyearlycompensation  yearsofexperience  \\\n",
       "count  62642.000000             5.011300e+04       62642.000000   \n",
       "mean   21297.420006             2.161279e+05           7.204135   \n",
       "std    15051.350908             1.393194e+05           5.840375   \n",
       "min        0.000000             1.000000e+04           0.000000   \n",
       "25%     7830.000000             1.350000e+05           3.000000   \n",
       "50%    18791.500000             1.880000e+05           6.000000   \n",
       "75%    34451.750000             2.620000e+05          10.000000   \n",
       "max    50112.000000             4.980000e+06          69.000000   \n",
       "\n",
       "       yearsatcompany  stockgrantvalue           bonus        cityid  \\\n",
       "count    62642.000000     6.264200e+04    62642.000000  62642.000000   \n",
       "mean         2.702093     5.148608e+04    19334.746588   9856.201989   \n",
       "std          3.263656     8.187457e+04    26781.292040   6679.104563   \n",
       "min          0.000000     0.000000e+00        0.000000      0.000000   \n",
       "25%          0.000000     0.000000e+00     1000.000000   7369.000000   \n",
       "50%          2.000000     2.500000e+04    14000.000000   7839.000000   \n",
       "75%          4.000000     6.500000e+04    26000.000000  11521.000000   \n",
       "max         69.000000     2.800000e+06  1000000.000000  47926.000000   \n",
       "\n",
       "       Masters_Degree  Bachelors_Degree  Doctorate_Degree    Highschool  \\\n",
       "count    62642.000000      62642.000000      62642.000000  62642.000000   \n",
       "mean         0.245698          0.201223          0.028783      0.005108   \n",
       "std          0.430504          0.400917          0.167196      0.071291   \n",
       "min          0.000000          0.000000          0.000000      0.000000   \n",
       "25%          0.000000          0.000000          0.000000      0.000000   \n",
       "50%          0.000000          0.000000          0.000000      0.000000   \n",
       "75%          0.000000          0.000000          0.000000      0.000000   \n",
       "max          1.000000          1.000000          1.000000      1.000000   \n",
       "\n",
       "       Some_College    Race_Asian    Race_White  Race_Two_Or_More  \\\n",
       "count  62642.000000  62642.000000  62642.000000      62642.000000   \n",
       "mean       0.005667      0.187925      0.128221          0.012835   \n",
       "std        0.075067      0.390655      0.334338          0.112562   \n",
       "min        0.000000      0.000000      0.000000          0.000000   \n",
       "25%        0.000000      0.000000      0.000000          0.000000   \n",
       "50%        0.000000      0.000000      0.000000          0.000000   \n",
       "75%        0.000000      0.000000      0.000000          0.000000   \n",
       "max        1.000000      1.000000      1.000000          1.000000   \n",
       "\n",
       "         Race_Black  Race_Hispanic  \n",
       "count  62642.000000   62642.000000  \n",
       "mean       0.011015       0.018039  \n",
       "std        0.104373       0.133094  \n",
       "min        0.000000       0.000000  \n",
       "25%        0.000000       0.000000  \n",
       "50%        0.000000       0.000000  \n",
       "75%        0.000000       0.000000  \n",
       "max        1.000000       1.000000  "
      ]
     },
     "execution_count": 6,
     "metadata": {},
     "output_type": "execute_result"
    }
   ],
   "source": [
    "train_test.describe()"
   ]
  },
  {
   "cell_type": "markdown",
   "id": "0cac1a87",
   "metadata": {
    "papermill": {
     "duration": 0.065661,
     "end_time": "2022-04-30T21:52:58.651684",
     "exception": false,
     "start_time": "2022-04-30T21:52:58.586023",
     "status": "completed"
    },
    "tags": []
   },
   "source": [
    "# **EDA**"
   ]
  },
  {
   "cell_type": "code",
   "execution_count": 7,
   "id": "5d9717d7",
   "metadata": {
    "execution": {
     "iopub.execute_input": "2022-04-30T21:52:58.758278Z",
     "iopub.status.busy": "2022-04-30T21:52:58.757992Z",
     "iopub.status.idle": "2022-04-30T21:52:59.097029Z",
     "shell.execute_reply": "2022-04-30T21:52:59.096004Z"
    },
    "papermill": {
     "duration": 0.398339,
     "end_time": "2022-04-30T21:52:59.099782",
     "exception": false,
     "start_time": "2022-04-30T21:52:58.701443",
     "status": "completed"
    },
    "tags": []
   },
   "outputs": [
    {
     "data": {
      "text/plain": [
       "<AxesSubplot:xlabel='yearsatcompany', ylabel='Count'>"
      ]
     },
     "execution_count": 7,
     "metadata": {},
     "output_type": "execute_result"
    },
    {
     "data": {
      "image/png": "[encoded data removed]",
      "text/plain": [
       "<Figure size 432x288 with 1 Axes>"
      ]
     },
     "metadata": {
      "needs_background": "light"
     },
     "output_type": "display_data"
    }
   ],
   "source": [
    "sns.histplot(train_test['yearsatcompany'], bins = 10)"
   ]
  },
  {
   "cell_type": "code",
   "execution_count": 8,
   "id": "83e8db14",
   "metadata": {
    "execution": {
     "iopub.execute_input": "2022-04-30T21:52:59.211591Z",
     "iopub.status.busy": "2022-04-30T21:52:59.211090Z",
     "iopub.status.idle": "2022-04-30T21:52:59.543689Z",
     "shell.execute_reply": "2022-04-30T21:52:59.542575Z"
    },
    "papermill": {
     "duration": 0.3872,
     "end_time": "2022-04-30T21:52:59.546075",
     "exception": false,
     "start_time": "2022-04-30T21:52:59.158875",
     "status": "completed"
    },
    "tags": []
   },
   "outputs": [
    {
     "data": {
      "text/plain": [
       "<AxesSubplot:xlabel='Education', ylabel='Count'>"
      ]
     },
     "execution_count": 8,
     "metadata": {},
     "output_type": "execute_result"
    },
    {
     "data": {
      "image/png": "[encoded data removed]",
      "text/plain": [
       "<Figure size 432x288 with 1 Axes>"
      ]
     },
     "metadata": {
      "needs_background": "light"
     },
     "output_type": "display_data"
    }
   ],
   "source": [
    "sns.histplot(train_test['Education'])"
   ]
  },
  {
   "cell_type": "code",
   "execution_count": 9,
   "id": "b34cfad1",
   "metadata": {
    "execution": {
     "iopub.execute_input": "2022-04-30T21:52:59.651419Z",
     "iopub.status.busy": "2022-04-30T21:52:59.651121Z",
     "iopub.status.idle": "2022-04-30T21:52:59.953511Z",
     "shell.execute_reply": "2022-04-30T21:52:59.952503Z"
    },
    "papermill": {
     "duration": 0.357847,
     "end_time": "2022-04-30T21:52:59.955982",
     "exception": false,
     "start_time": "2022-04-30T21:52:59.598135",
     "status": "completed"
    },
    "tags": []
   },
   "outputs": [
    {
     "data": {
      "text/plain": [
       "<AxesSubplot:xlabel='yearsofexperience', ylabel='Count'>"
      ]
     },
     "execution_count": 9,
     "metadata": {},
     "output_type": "execute_result"
    },
    {
     "data": {
      "image/png": "[encoded data removed]",
      "text/plain": [
       "<Figure size 432x288 with 1 Axes>"
      ]
     },
     "metadata": {
      "needs_background": "light"
     },
     "output_type": "display_data"
    }
   ],
   "source": [
    "sns.histplot(train_test['yearsofexperience'], bins = 10)"
   ]
  },
  {
   "cell_type": "code",
   "execution_count": 10,
   "id": "1db87e90",
   "metadata": {
    "execution": {
     "iopub.execute_input": "2022-04-30T21:53:00.067763Z",
     "iopub.status.busy": "2022-04-30T21:53:00.067455Z",
     "iopub.status.idle": "2022-04-30T21:53:00.369293Z",
     "shell.execute_reply": "2022-04-30T21:53:00.368607Z"
    },
    "papermill": {
     "duration": 0.359791,
     "end_time": "2022-04-30T21:53:00.371494",
     "exception": false,
     "start_time": "2022-04-30T21:53:00.011703",
     "status": "completed"
    },
    "tags": []
   },
   "outputs": [
    {
     "data": {
      "text/plain": [
       "<AxesSubplot:xlabel='stockgrantvalue', ylabel='Count'>"
      ]
     },
     "execution_count": 10,
     "metadata": {},
     "output_type": "execute_result"
    },
    {
     "data": {
      "image/png": "[encoded data removed]",
      "text/plain": [
       "<Figure size 432x288 with 1 Axes>"
      ]
     },
     "metadata": {
      "needs_background": "light"
     },
     "output_type": "display_data"
    }
   ],
   "source": [
    "sns.histplot(train_test['stockgrantvalue'], bins = 20)"
   ]
  },
  {
   "cell_type": "code",
   "execution_count": 11,
   "id": "8c4d0f8e",
   "metadata": {
    "execution": {
     "iopub.execute_input": "2022-04-30T21:53:00.487522Z",
     "iopub.status.busy": "2022-04-30T21:53:00.487089Z",
     "iopub.status.idle": "2022-04-30T21:53:00.915977Z",
     "shell.execute_reply": "2022-04-30T21:53:00.915143Z"
    },
    "papermill": {
     "duration": 0.489045,
     "end_time": "2022-04-30T21:53:00.918199",
     "exception": false,
     "start_time": "2022-04-30T21:53:00.429154",
     "status": "completed"
    },
    "tags": []
   },
   "outputs": [
    {
     "data": {
      "text/plain": [
       "<AxesSubplot:xlabel='bonus', ylabel='Count'>"
      ]
     },
     "execution_count": 11,
     "metadata": {},
     "output_type": "execute_result"
    },
    {
     "data": {
      "image/png": "[encoded data removed]",
      "text/plain": [
       "<Figure size 432x288 with 1 Axes>"
      ]
     },
     "metadata": {
      "needs_background": "light"
     },
     "output_type": "display_data"
    }
   ],
   "source": [
    "sns.histplot(train_test['bonus'], bins = 20)"
   ]
  },
  {
   "cell_type": "code",
   "execution_count": 12,
   "id": "1bbfae95",
   "metadata": {
    "execution": {
     "iopub.execute_input": "2022-04-30T21:53:01.035675Z",
     "iopub.status.busy": "2022-04-30T21:53:01.035226Z",
     "iopub.status.idle": "2022-04-30T21:53:01.043815Z",
     "shell.execute_reply": "2022-04-30T21:53:01.042492Z"
    },
    "papermill": {
     "duration": 0.070586,
     "end_time": "2022-04-30T21:53:01.046141",
     "exception": false,
     "start_time": "2022-04-30T21:53:00.975555",
     "status": "completed"
    },
    "tags": []
   },
   "outputs": [
    {
     "name": "stdout",
     "output_type": "stream",
     "text": [
      "The value of the correlation coefficient was: 0.10812235486112212\n"
     ]
    }
   ],
   "source": [
    "r_1 = np.corrcoef(train_test['yearsatcompany'], train_test['bonus'])\n",
    "print(f'The value of the correlation coefficient was: {r_1[0, 1]}')"
   ]
  },
  {
   "cell_type": "code",
   "execution_count": 13,
   "id": "cb3d044e",
   "metadata": {
    "execution": {
     "iopub.execute_input": "2022-04-30T21:53:01.160232Z",
     "iopub.status.busy": "2022-04-30T21:53:01.159897Z",
     "iopub.status.idle": "2022-04-30T21:53:01.165935Z",
     "shell.execute_reply": "2022-04-30T21:53:01.165144Z"
    },
    "papermill": {
     "duration": 0.06509,
     "end_time": "2022-04-30T21:53:01.167863",
     "exception": false,
     "start_time": "2022-04-30T21:53:01.102773",
     "status": "completed"
    },
    "tags": []
   },
   "outputs": [
    {
     "name": "stdout",
     "output_type": "stream",
     "text": [
      "The value of the correlation coefficient was: 0.08949233055576694\n"
     ]
    }
   ],
   "source": [
    "r_2 = np.corrcoef(train_test['yearsatcompany'], train_test['stockgrantvalue'])\n",
    "print(f'The value of the correlation coefficient was: {r_2[0, 1]}')"
   ]
  },
  {
   "cell_type": "code",
   "execution_count": 14,
   "id": "3818e4b0",
   "metadata": {
    "execution": {
     "iopub.execute_input": "2022-04-30T21:53:01.288408Z",
     "iopub.status.busy": "2022-04-30T21:53:01.288135Z",
     "iopub.status.idle": "2022-04-30T21:53:01.306402Z",
     "shell.execute_reply": "2022-04-30T21:53:01.305570Z"
    },
    "papermill": {
     "duration": 0.080132,
     "end_time": "2022-04-30T21:53:01.308537",
     "exception": false,
     "start_time": "2022-04-30T21:53:01.228405",
     "status": "completed"
    },
    "tags": []
   },
   "outputs": [
    {
     "data": {
      "text/plain": [
       "Seattle, WA          8701\n",
       "San Francisco, CA    6797\n",
       "New York, NY         4562\n",
       "Redmond, WA          2649\n",
       "Mountain View, CA    2275\n",
       "Sunnyvale, CA        2248\n",
       "San Jose, CA         2047\n",
       "Austin, TX           1527\n",
       "Menlo Park, CA       1440\n",
       "Cupertino, CA        1431\n",
       "Name: location, dtype: int64"
      ]
     },
     "execution_count": 14,
     "metadata": {},
     "output_type": "execute_result"
    }
   ],
   "source": [
    "train_test['location'].value_counts().iloc[0:10]"
   ]
  },
  {
   "cell_type": "code",
   "execution_count": 15,
   "id": "daa3dbc3",
   "metadata": {
    "execution": {
     "iopub.execute_input": "2022-04-30T21:53:01.425561Z",
     "iopub.status.busy": "2022-04-30T21:53:01.425273Z",
     "iopub.status.idle": "2022-04-30T21:53:01.486575Z",
     "shell.execute_reply": "2022-04-30T21:53:01.485675Z"
    },
    "papermill": {
     "duration": 0.122824,
     "end_time": "2022-04-30T21:53:01.489006",
     "exception": false,
     "start_time": "2022-04-30T21:53:01.366182",
     "status": "completed"
    },
    "tags": []
   },
   "outputs": [
    {
     "data": {
      "text/html": [
       "<div>\n",
       "<style scoped>\n",
       "    .dataframe tbody tr th:only-of-type {\n",
       "        vertical-align: middle;\n",
       "    }\n",
       "\n",
       "    .dataframe tbody tr th {\n",
       "        vertical-align: top;\n",
       "    }\n",
       "\n",
       "    .dataframe thead th {\n",
       "        text-align: right;\n",
       "    }\n",
       "</style>\n",
       "<table border=\"1\" class=\"dataframe\">\n",
       "  <thead>\n",
       "    <tr style=\"text-align: right;\">\n",
       "      <th></th>\n",
       "      <th>Unnamed: 0</th>\n",
       "      <th>totalyearlycompensation</th>\n",
       "      <th>yearsofexperience</th>\n",
       "      <th>yearsatcompany</th>\n",
       "      <th>stockgrantvalue</th>\n",
       "      <th>bonus</th>\n",
       "      <th>cityid</th>\n",
       "      <th>Masters_Degree</th>\n",
       "      <th>Bachelors_Degree</th>\n",
       "      <th>Doctorate_Degree</th>\n",
       "      <th>Highschool</th>\n",
       "      <th>Some_College</th>\n",
       "      <th>Race_Asian</th>\n",
       "      <th>Race_White</th>\n",
       "      <th>Race_Two_Or_More</th>\n",
       "      <th>Race_Black</th>\n",
       "      <th>Race_Hispanic</th>\n",
       "    </tr>\n",
       "    <tr>\n",
       "      <th>location</th>\n",
       "      <th></th>\n",
       "      <th></th>\n",
       "      <th></th>\n",
       "      <th></th>\n",
       "      <th></th>\n",
       "      <th></th>\n",
       "      <th></th>\n",
       "      <th></th>\n",
       "      <th></th>\n",
       "      <th></th>\n",
       "      <th></th>\n",
       "      <th></th>\n",
       "      <th></th>\n",
       "      <th></th>\n",
       "      <th></th>\n",
       "      <th></th>\n",
       "      <th></th>\n",
       "    </tr>\n",
       "  </thead>\n",
       "  <tbody>\n",
       "    <tr>\n",
       "      <th>Aachen, NW, Germany</th>\n",
       "      <td>18808.333333</td>\n",
       "      <td>111500.000000</td>\n",
       "      <td>4.00000</td>\n",
       "      <td>0.333333</td>\n",
       "      <td>8000.000000</td>\n",
       "      <td>12333.333333</td>\n",
       "      <td>3645.0</td>\n",
       "      <td>0.333333</td>\n",
       "      <td>0.000000</td>\n",
       "      <td>0.000000</td>\n",
       "      <td>0.0</td>\n",
       "      <td>0.000000</td>\n",
       "      <td>0.333333</td>\n",
       "      <td>0.00000</td>\n",
       "      <td>0.000000</td>\n",
       "      <td>0.0</td>\n",
       "      <td>0.000000</td>\n",
       "    </tr>\n",
       "    <tr>\n",
       "      <th>Aarhus, AR, Denmark</th>\n",
       "      <td>21154.200000</td>\n",
       "      <td>263400.000000</td>\n",
       "      <td>4.80000</td>\n",
       "      <td>2.400000</td>\n",
       "      <td>86200.000000</td>\n",
       "      <td>30400.000000</td>\n",
       "      <td>12962.0</td>\n",
       "      <td>0.000000</td>\n",
       "      <td>0.200000</td>\n",
       "      <td>0.200000</td>\n",
       "      <td>0.0</td>\n",
       "      <td>0.000000</td>\n",
       "      <td>0.000000</td>\n",
       "      <td>0.40000</td>\n",
       "      <td>0.000000</td>\n",
       "      <td>0.0</td>\n",
       "      <td>0.000000</td>\n",
       "    </tr>\n",
       "    <tr>\n",
       "      <th>Aberdeen Proving Ground, MD</th>\n",
       "      <td>30088.000000</td>\n",
       "      <td>79000.000000</td>\n",
       "      <td>2.00000</td>\n",
       "      <td>2.000000</td>\n",
       "      <td>5000.000000</td>\n",
       "      <td>0.000000</td>\n",
       "      <td>19060.0</td>\n",
       "      <td>0.000000</td>\n",
       "      <td>0.000000</td>\n",
       "      <td>0.000000</td>\n",
       "      <td>0.0</td>\n",
       "      <td>0.000000</td>\n",
       "      <td>0.000000</td>\n",
       "      <td>0.00000</td>\n",
       "      <td>0.000000</td>\n",
       "      <td>0.0</td>\n",
       "      <td>0.000000</td>\n",
       "    </tr>\n",
       "    <tr>\n",
       "      <th>Abingdon, MD</th>\n",
       "      <td>5857.000000</td>\n",
       "      <td>173000.000000</td>\n",
       "      <td>8.00000</td>\n",
       "      <td>4.000000</td>\n",
       "      <td>40000.000000</td>\n",
       "      <td>0.000000</td>\n",
       "      <td>14910.0</td>\n",
       "      <td>0.000000</td>\n",
       "      <td>1.000000</td>\n",
       "      <td>0.000000</td>\n",
       "      <td>0.0</td>\n",
       "      <td>0.000000</td>\n",
       "      <td>0.000000</td>\n",
       "      <td>1.00000</td>\n",
       "      <td>0.000000</td>\n",
       "      <td>0.0</td>\n",
       "      <td>0.000000</td>\n",
       "    </tr>\n",
       "    <tr>\n",
       "      <th>Accra, AA, Ghana</th>\n",
       "      <td>8951.000000</td>\n",
       "      <td>NaN</td>\n",
       "      <td>5.00000</td>\n",
       "      <td>2.000000</td>\n",
       "      <td>0.000000</td>\n",
       "      <td>0.000000</td>\n",
       "      <td>3949.0</td>\n",
       "      <td>0.000000</td>\n",
       "      <td>1.000000</td>\n",
       "      <td>0.000000</td>\n",
       "      <td>0.0</td>\n",
       "      <td>0.000000</td>\n",
       "      <td>0.000000</td>\n",
       "      <td>0.00000</td>\n",
       "      <td>0.000000</td>\n",
       "      <td>1.0</td>\n",
       "      <td>0.000000</td>\n",
       "    </tr>\n",
       "    <tr>\n",
       "      <th>...</th>\n",
       "      <td>...</td>\n",
       "      <td>...</td>\n",
       "      <td>...</td>\n",
       "      <td>...</td>\n",
       "      <td>...</td>\n",
       "      <td>...</td>\n",
       "      <td>...</td>\n",
       "      <td>...</td>\n",
       "      <td>...</td>\n",
       "      <td>...</td>\n",
       "      <td>...</td>\n",
       "      <td>...</td>\n",
       "      <td>...</td>\n",
       "      <td>...</td>\n",
       "      <td>...</td>\n",
       "      <td>...</td>\n",
       "      <td>...</td>\n",
       "    </tr>\n",
       "    <tr>\n",
       "      <th>Zapopan, JA, Mexico</th>\n",
       "      <td>43867.000000</td>\n",
       "      <td>25000.000000</td>\n",
       "      <td>2.00000</td>\n",
       "      <td>1.000000</td>\n",
       "      <td>0.000000</td>\n",
       "      <td>0.000000</td>\n",
       "      <td>4526.0</td>\n",
       "      <td>0.000000</td>\n",
       "      <td>1.000000</td>\n",
       "      <td>0.000000</td>\n",
       "      <td>0.0</td>\n",
       "      <td>0.000000</td>\n",
       "      <td>0.000000</td>\n",
       "      <td>0.00000</td>\n",
       "      <td>0.000000</td>\n",
       "      <td>0.0</td>\n",
       "      <td>1.000000</td>\n",
       "    </tr>\n",
       "    <tr>\n",
       "      <th>Zaragoza, AR, Spain</th>\n",
       "      <td>10983.666667</td>\n",
       "      <td>41000.000000</td>\n",
       "      <td>6.00000</td>\n",
       "      <td>1.666667</td>\n",
       "      <td>0.000000</td>\n",
       "      <td>3333.333333</td>\n",
       "      <td>14135.0</td>\n",
       "      <td>0.666667</td>\n",
       "      <td>0.000000</td>\n",
       "      <td>0.000000</td>\n",
       "      <td>0.0</td>\n",
       "      <td>0.000000</td>\n",
       "      <td>0.000000</td>\n",
       "      <td>0.00000</td>\n",
       "      <td>0.333333</td>\n",
       "      <td>0.0</td>\n",
       "      <td>0.000000</td>\n",
       "    </tr>\n",
       "    <tr>\n",
       "      <th>Zug, ZG, Switzerland</th>\n",
       "      <td>12384.000000</td>\n",
       "      <td>NaN</td>\n",
       "      <td>15.00000</td>\n",
       "      <td>5.000000</td>\n",
       "      <td>0.000000</td>\n",
       "      <td>10000.000000</td>\n",
       "      <td>13688.0</td>\n",
       "      <td>1.000000</td>\n",
       "      <td>0.000000</td>\n",
       "      <td>0.000000</td>\n",
       "      <td>0.0</td>\n",
       "      <td>0.000000</td>\n",
       "      <td>0.000000</td>\n",
       "      <td>0.00000</td>\n",
       "      <td>0.000000</td>\n",
       "      <td>0.0</td>\n",
       "      <td>0.000000</td>\n",
       "    </tr>\n",
       "    <tr>\n",
       "      <th>Zurich, ZH, Switzerland</th>\n",
       "      <td>19571.220930</td>\n",
       "      <td>243553.030303</td>\n",
       "      <td>7.97093</td>\n",
       "      <td>3.287791</td>\n",
       "      <td>55941.860465</td>\n",
       "      <td>26912.790698</td>\n",
       "      <td>6736.0</td>\n",
       "      <td>0.308140</td>\n",
       "      <td>0.110465</td>\n",
       "      <td>0.093023</td>\n",
       "      <td>0.0</td>\n",
       "      <td>0.005814</td>\n",
       "      <td>0.029070</td>\n",
       "      <td>0.30814</td>\n",
       "      <td>0.000000</td>\n",
       "      <td>0.0</td>\n",
       "      <td>0.005814</td>\n",
       "    </tr>\n",
       "    <tr>\n",
       "      <th>hod hasharon, HM, Israel</th>\n",
       "      <td>19530.000000</td>\n",
       "      <td>202000.000000</td>\n",
       "      <td>5.00000</td>\n",
       "      <td>2.000000</td>\n",
       "      <td>18500.000000</td>\n",
       "      <td>9000.000000</td>\n",
       "      <td>42027.0</td>\n",
       "      <td>0.000000</td>\n",
       "      <td>0.500000</td>\n",
       "      <td>0.000000</td>\n",
       "      <td>0.0</td>\n",
       "      <td>0.000000</td>\n",
       "      <td>0.000000</td>\n",
       "      <td>0.50000</td>\n",
       "      <td>0.000000</td>\n",
       "      <td>0.0</td>\n",
       "      <td>0.000000</td>\n",
       "    </tr>\n",
       "  </tbody>\n",
       "</table>\n",
       "<p>1050 rows × 17 columns</p>\n",
       "</div>"
      ],
      "text/plain": [
       "                               Unnamed: 0  totalyearlycompensation  \\\n",
       "location                                                             \n",
       "Aachen, NW, Germany          18808.333333            111500.000000   \n",
       "Aarhus, AR, Denmark          21154.200000            263400.000000   \n",
       "Aberdeen Proving Ground, MD  30088.000000             79000.000000   \n",
       "Abingdon, MD                  5857.000000            173000.000000   \n",
       "Accra, AA, Ghana              8951.000000                      NaN   \n",
       "...                                   ...                      ...   \n",
       "Zapopan, JA, Mexico          43867.000000             25000.000000   \n",
       "Zaragoza, AR, Spain          10983.666667             41000.000000   \n",
       "Zug, ZG, Switzerland         12384.000000                      NaN   \n",
       "Zurich, ZH, Switzerland      19571.220930            243553.030303   \n",
       "hod hasharon, HM, Israel     19530.000000            202000.000000   \n",
       "\n",
       "                             yearsofexperience  yearsatcompany  \\\n",
       "location                                                         \n",
       "Aachen, NW, Germany                    4.00000        0.333333   \n",
       "Aarhus, AR, Denmark                    4.80000        2.400000   \n",
       "Aberdeen Proving Ground, MD            2.00000        2.000000   \n",
       "Abingdon, MD                           8.00000        4.000000   \n",
       "Accra, AA, Ghana                       5.00000        2.000000   \n",
       "...                                        ...             ...   \n",
       "Zapopan, JA, Mexico                    2.00000        1.000000   \n",
       "Zaragoza, AR, Spain                    6.00000        1.666667   \n",
       "Zug, ZG, Switzerland                  15.00000        5.000000   \n",
       "Zurich, ZH, Switzerland                7.97093        3.287791   \n",
       "hod hasharon, HM, Israel               5.00000        2.000000   \n",
       "\n",
       "                             stockgrantvalue         bonus   cityid  \\\n",
       "location                                                              \n",
       "Aachen, NW, Germany              8000.000000  12333.333333   3645.0   \n",
       "Aarhus, AR, Denmark             86200.000000  30400.000000  12962.0   \n",
       "Aberdeen Proving Ground, MD      5000.000000      0.000000  19060.0   \n",
       "Abingdon, MD                    40000.000000      0.000000  14910.0   \n",
       "Accra, AA, Ghana                    0.000000      0.000000   3949.0   \n",
       "...                                      ...           ...      ...   \n",
       "Zapopan, JA, Mexico                 0.000000      0.000000   4526.0   \n",
       "Zaragoza, AR, Spain                 0.000000   3333.333333  14135.0   \n",
       "Zug, ZG, Switzerland                0.000000  10000.000000  13688.0   \n",
       "Zurich, ZH, Switzerland         55941.860465  26912.790698   6736.0   \n",
       "hod hasharon, HM, Israel        18500.000000   9000.000000  42027.0   \n",
       "\n",
       "                             Masters_Degree  Bachelors_Degree  \\\n",
       "location                                                        \n",
       "Aachen, NW, Germany                0.333333          0.000000   \n",
       "Aarhus, AR, Denmark                0.000000          0.200000   \n",
       "Aberdeen Proving Ground, MD        0.000000          0.000000   \n",
       "Abingdon, MD                       0.000000          1.000000   \n",
       "Accra, AA, Ghana                   0.000000          1.000000   \n",
       "...                                     ...               ...   \n",
       "Zapopan, JA, Mexico                0.000000          1.000000   \n",
       "Zaragoza, AR, Spain                0.666667          0.000000   \n",
       "Zug, ZG, Switzerland               1.000000          0.000000   \n",
       "Zurich, ZH, Switzerland            0.308140          0.110465   \n",
       "hod hasharon, HM, Israel           0.000000          0.500000   \n",
       "\n",
       "                             Doctorate_Degree  Highschool  Some_College  \\\n",
       "location                                                                  \n",
       "Aachen, NW, Germany                  0.000000         0.0      0.000000   \n",
       "Aarhus, AR, Denmark                  0.200000         0.0      0.000000   \n",
       "Aberdeen Proving Ground, MD          0.000000         0.0      0.000000   \n",
       "Abingdon, MD                         0.000000         0.0      0.000000   \n",
       "Accra, AA, Ghana                     0.000000         0.0      0.000000   \n",
       "...                                       ...         ...           ...   \n",
       "Zapopan, JA, Mexico                  0.000000         0.0      0.000000   \n",
       "Zaragoza, AR, Spain                  0.000000         0.0      0.000000   \n",
       "Zug, ZG, Switzerland                 0.000000         0.0      0.000000   \n",
       "Zurich, ZH, Switzerland              0.093023         0.0      0.005814   \n",
       "hod hasharon, HM, Israel             0.000000         0.0      0.000000   \n",
       "\n",
       "                             Race_Asian  Race_White  Race_Two_Or_More  \\\n",
       "location                                                                \n",
       "Aachen, NW, Germany            0.333333     0.00000          0.000000   \n",
       "Aarhus, AR, Denmark            0.000000     0.40000          0.000000   \n",
       "Aberdeen Proving Ground, MD    0.000000     0.00000          0.000000   \n",
       "Abingdon, MD                   0.000000     1.00000          0.000000   \n",
       "Accra, AA, Ghana               0.000000     0.00000          0.000000   \n",
       "...                                 ...         ...               ...   \n",
       "Zapopan, JA, Mexico            0.000000     0.00000          0.000000   \n",
       "Zaragoza, AR, Spain            0.000000     0.00000          0.333333   \n",
       "Zug, ZG, Switzerland           0.000000     0.00000          0.000000   \n",
       "Zurich, ZH, Switzerland        0.029070     0.30814          0.000000   \n",
       "hod hasharon, HM, Israel       0.000000     0.50000          0.000000   \n",
       "\n",
       "                             Race_Black  Race_Hispanic  \n",
       "location                                                \n",
       "Aachen, NW, Germany                 0.0       0.000000  \n",
       "Aarhus, AR, Denmark                 0.0       0.000000  \n",
       "Aberdeen Proving Ground, MD         0.0       0.000000  \n",
       "Abingdon, MD                        0.0       0.000000  \n",
       "Accra, AA, Ghana                    1.0       0.000000  \n",
       "...                                 ...            ...  \n",
       "Zapopan, JA, Mexico                 0.0       1.000000  \n",
       "Zaragoza, AR, Spain                 0.0       0.000000  \n",
       "Zug, ZG, Switzerland                0.0       0.000000  \n",
       "Zurich, ZH, Switzerland             0.0       0.005814  \n",
       "hod hasharon, HM, Israel            0.0       0.000000  \n",
       "\n",
       "[1050 rows x 17 columns]"
      ]
     },
     "execution_count": 15,
     "metadata": {},
     "output_type": "execute_result"
    }
   ],
   "source": [
    "train_test.groupby('location').agg(np.mean)"
   ]
  },
  {
   "cell_type": "code",
   "execution_count": 16,
   "id": "0558f77c",
   "metadata": {
    "execution": {
     "iopub.execute_input": "2022-04-30T21:53:01.612110Z",
     "iopub.status.busy": "2022-04-30T21:53:01.611569Z",
     "iopub.status.idle": "2022-04-30T21:53:01.658399Z",
     "shell.execute_reply": "2022-04-30T21:53:01.656891Z"
    },
    "papermill": {
     "duration": 0.112188,
     "end_time": "2022-04-30T21:53:01.660749",
     "exception": false,
     "start_time": "2022-04-30T21:53:01.548561",
     "status": "completed"
    },
    "tags": []
   },
   "outputs": [
    {
     "name": "stdout",
     "output_type": "stream",
     "text": [
      "The value of the correlation coefficient was: -0.007693338823392757\n"
     ]
    }
   ],
   "source": [
    "r_3 = np.corrcoef(train_test['location'].value_counts().iloc[0:], train_test.groupby('location').agg(np.mean)[\"Race_Asian\"])\n",
    "print(f'The value of the correlation coefficient was: {r_3[0, 1]}')"
   ]
  },
  {
   "cell_type": "code",
   "execution_count": 17,
   "id": "eacf57f0",
   "metadata": {
    "execution": {
     "iopub.execute_input": "2022-04-30T21:53:01.782773Z",
     "iopub.status.busy": "2022-04-30T21:53:01.782504Z",
     "iopub.status.idle": "2022-04-30T21:53:01.830333Z",
     "shell.execute_reply": "2022-04-30T21:53:01.828874Z"
    },
    "papermill": {
     "duration": 0.110881,
     "end_time": "2022-04-30T21:53:01.833333",
     "exception": false,
     "start_time": "2022-04-30T21:53:01.722452",
     "status": "completed"
    },
    "tags": []
   },
   "outputs": [
    {
     "name": "stdout",
     "output_type": "stream",
     "text": [
      "The value of the correlation coefficient was: -0.025516808412722795\n"
     ]
    }
   ],
   "source": [
    "r_4 = np.corrcoef(train_test['location'].value_counts().iloc[0:], train_test.groupby('location').agg(np.mean)[\"Race_White\"])\n",
    "print(f'The value of the correlation coefficient was: {r_4[0, 1]}')"
   ]
  },
  {
   "cell_type": "code",
   "execution_count": 18,
   "id": "96829480",
   "metadata": {
    "execution": {
     "iopub.execute_input": "2022-04-30T21:53:01.955070Z",
     "iopub.status.busy": "2022-04-30T21:53:01.954755Z",
     "iopub.status.idle": "2022-04-30T21:53:02.001222Z",
     "shell.execute_reply": "2022-04-30T21:53:02.000023Z"
    },
    "papermill": {
     "duration": 0.110878,
     "end_time": "2022-04-30T21:53:02.004696",
     "exception": false,
     "start_time": "2022-04-30T21:53:01.893818",
     "status": "completed"
    },
    "tags": []
   },
   "outputs": [
    {
     "name": "stdout",
     "output_type": "stream",
     "text": [
      "The value of the correlation coefficient was: 0.04018608962578599\n"
     ]
    }
   ],
   "source": [
    "r_5 = np.corrcoef(train_test['location'].value_counts().iloc[0:], train_test.groupby('location').agg(np.mean)[\"Race_Black\"])\n",
    "print(f'The value of the correlation coefficient was: {r_5[0, 1]}')"
   ]
  },
  {
   "cell_type": "code",
   "execution_count": 19,
   "id": "35c42fd9",
   "metadata": {
    "execution": {
     "iopub.execute_input": "2022-04-30T21:53:02.128924Z",
     "iopub.status.busy": "2022-04-30T21:53:02.128023Z",
     "iopub.status.idle": "2022-04-30T21:53:02.173084Z",
     "shell.execute_reply": "2022-04-30T21:53:02.172282Z"
    },
    "papermill": {
     "duration": 0.107529,
     "end_time": "2022-04-30T21:53:02.175466",
     "exception": false,
     "start_time": "2022-04-30T21:53:02.067937",
     "status": "completed"
    },
    "tags": []
   },
   "outputs": [
    {
     "name": "stdout",
     "output_type": "stream",
     "text": [
      "The value of the correlation coefficient was: -0.016021939534805924\n"
     ]
    }
   ],
   "source": [
    "r_5 = np.corrcoef(train_test['location'].value_counts().iloc[0:], train_test.groupby('location').agg(np.mean)[\"Race_Hispanic\"])\n",
    "print(f'The value of the correlation coefficient was: {r_5[0, 1]}')"
   ]
  },
  {
   "cell_type": "code",
   "execution_count": 20,
   "id": "b95144a2",
   "metadata": {
    "execution": {
     "iopub.execute_input": "2022-04-30T21:53:02.299286Z",
     "iopub.status.busy": "2022-04-30T21:53:02.298906Z",
     "iopub.status.idle": "2022-04-30T21:53:04.487226Z",
     "shell.execute_reply": "2022-04-30T21:53:04.486065Z"
    },
    "papermill": {
     "duration": 2.251548,
     "end_time": "2022-04-30T21:53:04.489555",
     "exception": false,
     "start_time": "2022-04-30T21:53:02.238007",
     "status": "completed"
    },
    "tags": []
   },
   "outputs": [
    {
     "data": {
      "text/plain": [
       "<BarContainer object of 1050 artists>"
      ]
     },
     "execution_count": 20,
     "metadata": {},
     "output_type": "execute_result"
    },
    {
     "data": {
      "image/png": "[encoded data removed]",
      "text/plain": [
       "<Figure size 432x288 with 1 Axes>"
      ]
     },
     "metadata": {
      "needs_background": "light"
     },
     "output_type": "display_data"
    }
   ],
   "source": [
    "plt.barh(train_test.groupby('location').agg(np.mean)[\"Race_Black\"], train_test['location'].value_counts().iloc[0:])"
   ]
  },
  {
   "cell_type": "code",
   "execution_count": 21,
   "id": "144b698a",
   "metadata": {
    "execution": {
     "iopub.execute_input": "2022-04-30T21:53:04.621417Z",
     "iopub.status.busy": "2022-04-30T21:53:04.620666Z",
     "iopub.status.idle": "2022-04-30T21:53:04.943644Z",
     "shell.execute_reply": "2022-04-30T21:53:04.942758Z"
    },
    "papermill": {
     "duration": 0.395772,
     "end_time": "2022-04-30T21:53:04.945676",
     "exception": false,
     "start_time": "2022-04-30T21:53:04.549904",
     "status": "completed"
    },
    "tags": []
   },
   "outputs": [
    {
     "data": {
      "text/plain": [
       "<AxesSubplot:xlabel='totalyearlycompensation', ylabel='Count'>"
      ]
     },
     "execution_count": 21,
     "metadata": {},
     "output_type": "execute_result"
    },
    {
     "data": {
      "image/png": "[encoded data removed]",
      "text/plain": [
       "<Figure size 432x288 with 1 Axes>"
      ]
     },
     "metadata": {
      "needs_background": "light"
     },
     "output_type": "display_data"
    }
   ],
   "source": [
    "sns.histplot(train_test['totalyearlycompensation'], bins = 30)"
   ]
  },
  {
   "cell_type": "code",
   "execution_count": 22,
   "id": "ed338a9f",
   "metadata": {
    "execution": {
     "iopub.execute_input": "2022-04-30T21:53:05.071712Z",
     "iopub.status.busy": "2022-04-30T21:53:05.071292Z",
     "iopub.status.idle": "2022-04-30T21:53:10.478873Z",
     "shell.execute_reply": "2022-04-30T21:53:10.477814Z"
    },
    "papermill": {
     "duration": 5.474481,
     "end_time": "2022-04-30T21:53:10.481341",
     "exception": false,
     "start_time": "2022-04-30T21:53:05.006860",
     "status": "completed"
    },
    "tags": []
   },
   "outputs": [],
   "source": [
    "train['year'] = pd.DatetimeIndex(train['timestamp']).year"
   ]
  },
  {
   "cell_type": "code",
   "execution_count": 23,
   "id": "4a6ca3d7",
   "metadata": {
    "execution": {
     "iopub.execute_input": "2022-04-30T21:53:10.607240Z",
     "iopub.status.busy": "2022-04-30T21:53:10.606909Z",
     "iopub.status.idle": "2022-04-30T21:53:11.011640Z",
     "shell.execute_reply": "2022-04-30T21:53:11.011005Z"
    },
    "papermill": {
     "duration": 0.469558,
     "end_time": "2022-04-30T21:53:11.013646",
     "exception": false,
     "start_time": "2022-04-30T21:53:10.544088",
     "status": "completed"
    },
    "tags": []
   },
   "outputs": [
    {
     "data": {
      "image/png": "[encoded data removed]",
      "text/plain": [
       "<Figure size 432x288 with 1 Axes>"
      ]
     },
     "metadata": {
      "needs_background": "light"
     },
     "output_type": "display_data"
    }
   ],
   "source": [
    "plt.scatter(train['year'], train['totalyearlycompensation']);"
   ]
  },
  {
   "cell_type": "code",
   "execution_count": 24,
   "id": "11e2072e",
   "metadata": {
    "execution": {
     "iopub.execute_input": "2022-04-30T21:53:11.142052Z",
     "iopub.status.busy": "2022-04-30T21:53:11.141220Z",
     "iopub.status.idle": "2022-04-30T21:53:11.695423Z",
     "shell.execute_reply": "2022-04-30T21:53:11.694827Z"
    },
    "papermill": {
     "duration": 0.620017,
     "end_time": "2022-04-30T21:53:11.697585",
     "exception": false,
     "start_time": "2022-04-30T21:53:11.077568",
     "status": "completed"
    },
    "tags": []
   },
   "outputs": [
    {
     "data": {
      "image/png": "[encoded data removed]",
      "text/plain": [
       "<Figure size 432x288 with 1 Axes>"
      ]
     },
     "metadata": {
      "needs_background": "light"
     },
     "output_type": "display_data"
    }
   ],
   "source": [
    "plt.scatter(train['year'], train['stockgrantvalue']);"
   ]
  },
  {
   "cell_type": "code",
   "execution_count": 25,
   "id": "b4f71baf",
   "metadata": {
    "execution": {
     "iopub.execute_input": "2022-04-30T21:53:11.825439Z",
     "iopub.status.busy": "2022-04-30T21:53:11.825127Z",
     "iopub.status.idle": "2022-04-30T21:53:12.220639Z",
     "shell.execute_reply": "2022-04-30T21:53:12.219968Z"
    },
    "papermill": {
     "duration": 0.461456,
     "end_time": "2022-04-30T21:53:12.222505",
     "exception": false,
     "start_time": "2022-04-30T21:53:11.761049",
     "status": "completed"
    },
    "tags": []
   },
   "outputs": [
    {
     "data": {
      "image/png": "[encoded data removed]",
      "text/plain": [
       "<Figure size 432x288 with 1 Axes>"
      ]
     },
     "metadata": {
      "needs_background": "light"
     },
     "output_type": "display_data"
    }
   ],
   "source": [
    "plt.scatter(train['year'], train['bonus']);"
   ]
  },
  {
   "cell_type": "code",
   "execution_count": 26,
   "id": "9df9975f",
   "metadata": {
    "execution": {
     "iopub.execute_input": "2022-04-30T21:53:12.351661Z",
     "iopub.status.busy": "2022-04-30T21:53:12.351103Z",
     "iopub.status.idle": "2022-04-30T21:53:12.621093Z",
     "shell.execute_reply": "2022-04-30T21:53:12.620026Z"
    },
    "papermill": {
     "duration": 0.337326,
     "end_time": "2022-04-30T21:53:12.623393",
     "exception": false,
     "start_time": "2022-04-30T21:53:12.286067",
     "status": "completed"
    },
    "tags": []
   },
   "outputs": [
    {
     "data": {
      "image/png": "[encoded data removed]",
      "text/plain": [
       "<Figure size 432x288 with 1 Axes>"
      ]
     },
     "metadata": {
      "needs_background": "light"
     },
     "output_type": "display_data"
    }
   ],
   "source": [
    "top_position_salary = train_test.groupby('company').agg(np.mean)[['totalyearlycompensation']].reset_index().sort_values('totalyearlycompensation', ascending=False).iloc[0:10, :]\n",
    "plt.barh(top_position_salary['company'], top_position_salary['totalyearlycompensation']); "
   ]
  },
  {
   "cell_type": "code",
   "execution_count": 27,
   "id": "c61e0598",
   "metadata": {
    "execution": {
     "iopub.execute_input": "2022-04-30T21:53:12.754629Z",
     "iopub.status.busy": "2022-04-30T21:53:12.754358Z",
     "iopub.status.idle": "2022-04-30T21:53:13.067741Z",
     "shell.execute_reply": "2022-04-30T21:53:13.066836Z"
    },
    "papermill": {
     "duration": 0.381787,
     "end_time": "2022-04-30T21:53:13.070177",
     "exception": false,
     "start_time": "2022-04-30T21:53:12.688390",
     "status": "completed"
    },
    "tags": []
   },
   "outputs": [
    {
     "data": {
      "image/png": "[encoded data removed]",
      "text/plain": [
       "<Figure size 432x288 with 1 Axes>"
      ]
     },
     "metadata": {
      "needs_background": "light"
     },
     "output_type": "display_data"
    }
   ],
   "source": [
    "title_comp = train_test.groupby('title').agg(np.mean)[['totalyearlycompensation']].reset_index().sort_values('totalyearlycompensation')\n",
    "plt.barh(title_comp['title'], title_comp['totalyearlycompensation']); "
   ]
  },
  {
   "cell_type": "code",
   "execution_count": 28,
   "id": "bb2a30d7",
   "metadata": {
    "execution": {
     "iopub.execute_input": "2022-04-30T21:53:13.210234Z",
     "iopub.status.busy": "2022-04-30T21:53:13.209876Z",
     "iopub.status.idle": "2022-04-30T21:53:13.427974Z",
     "shell.execute_reply": "2022-04-30T21:53:13.427355Z"
    },
    "papermill": {
     "duration": 0.292138,
     "end_time": "2022-04-30T21:53:13.430039",
     "exception": false,
     "start_time": "2022-04-30T21:53:13.137901",
     "status": "completed"
    },
    "tags": []
   },
   "outputs": [
    {
     "data": {
      "image/png": "[encoded data removed]",
      "text/plain": [
       "<Figure size 432x288 with 1 Axes>"
      ]
     },
     "metadata": {
      "needs_background": "light"
     },
     "output_type": "display_data"
    }
   ],
   "source": [
    "education_salary = train_test.groupby('Education').agg(np.mean)[['totalyearlycompensation']].reset_index().sort_values('totalyearlycompensation')\n",
    "plt.barh(education_salary['Education'], education_salary['totalyearlycompensation']); "
   ]
  },
  {
   "cell_type": "code",
   "execution_count": 29,
   "id": "4416b462",
   "metadata": {
    "execution": {
     "iopub.execute_input": "2022-04-30T21:53:13.567075Z",
     "iopub.status.busy": "2022-04-30T21:53:13.566503Z",
     "iopub.status.idle": "2022-04-30T21:53:13.831505Z",
     "shell.execute_reply": "2022-04-30T21:53:13.830844Z"
    },
    "papermill": {
     "duration": 0.335957,
     "end_time": "2022-04-30T21:53:13.833581",
     "exception": false,
     "start_time": "2022-04-30T21:53:13.497624",
     "status": "completed"
    },
    "tags": []
   },
   "outputs": [
    {
     "data": {
      "image/png": "[encoded data removed]",
      "text/plain": [
       "<Figure size 432x288 with 1 Axes>"
      ]
     },
     "metadata": {
      "needs_background": "light"
     },
     "output_type": "display_data"
    }
   ],
   "source": [
    "bot_location_salary = train.groupby('location').agg(np.mean)[['totalyearlycompensation']].reset_index().sort_values('totalyearlycompensation').iloc[0:10, :]\n",
    "plt.barh(bot_location_salary['location'], bot_location_salary['totalyearlycompensation']); "
   ]
  },
  {
   "cell_type": "code",
   "execution_count": 30,
   "id": "89df9ab8",
   "metadata": {
    "execution": {
     "iopub.execute_input": "2022-04-30T21:53:13.974124Z",
     "iopub.status.busy": "2022-04-30T21:53:13.973523Z",
     "iopub.status.idle": "2022-04-30T21:53:14.246193Z",
     "shell.execute_reply": "2022-04-30T21:53:14.245572Z"
    },
    "papermill": {
     "duration": 0.344652,
     "end_time": "2022-04-30T21:53:14.248251",
     "exception": false,
     "start_time": "2022-04-30T21:53:13.903599",
     "status": "completed"
    },
    "tags": []
   },
   "outputs": [
    {
     "data": {
      "image/png": "[encoded data removed]",
      "text/plain": [
       "<Figure size 432x288 with 1 Axes>"
      ]
     },
     "metadata": {
      "needs_background": "light"
     },
     "output_type": "display_data"
    }
   ],
   "source": [
    "bot_title_salary = train_test.groupby('title').agg(np.mean)[['totalyearlycompensation']].reset_index().sort_values('totalyearlycompensation').iloc[0:10, :]\n",
    "plt.barh(bot_title_salary['title'], bot_title_salary['totalyearlycompensation']); "
   ]
  },
  {
   "cell_type": "code",
   "execution_count": 31,
   "id": "0cdbce1c",
   "metadata": {
    "execution": {
     "iopub.execute_input": "2022-04-30T21:53:14.390898Z",
     "iopub.status.busy": "2022-04-30T21:53:14.390393Z",
     "iopub.status.idle": "2022-04-30T21:53:14.610739Z",
     "shell.execute_reply": "2022-04-30T21:53:14.610118Z"
    },
    "papermill": {
     "duration": 0.293372,
     "end_time": "2022-04-30T21:53:14.612822",
     "exception": false,
     "start_time": "2022-04-30T21:53:14.319450",
     "status": "completed"
    },
    "tags": []
   },
   "outputs": [
    {
     "data": {
      "image/png": "[encoded data removed]",
      "text/plain": [
       "<Figure size 432x288 with 1 Axes>"
      ]
     },
     "metadata": {
      "needs_background": "light"
     },
     "output_type": "display_data"
    }
   ],
   "source": [
    "yoe_salary = train[['yearsofexperience', 'totalyearlycompensation']]\n",
    "yoe_salary_means = yoe_salary.groupby('yearsofexperience').mean().reset_index()\n",
    "m, b = np.polyfit(yoe_salary_means['yearsofexperience'], yoe_salary_means['totalyearlycompensation'], 1) \n",
    "plt.scatter(yoe_salary_means['yearsofexperience'], yoe_salary_means['totalyearlycompensation'])\n",
    "plt.plot(yoe_salary_means['yearsofexperience'], m * yoe_salary_means['yearsofexperience'] + b);"
   ]
  },
  {
   "cell_type": "markdown",
   "id": "2440129b",
   "metadata": {
    "papermill": {
     "duration": 0.069107,
     "end_time": "2022-04-30T21:53:14.752352",
     "exception": false,
     "start_time": "2022-04-30T21:53:14.683245",
     "status": "completed"
    },
    "tags": []
   },
   "source": [
    "# **Modelling**"
   ]
  },
  {
   "cell_type": "code",
   "execution_count": 32,
   "id": "0f365ebd",
   "metadata": {
    "execution": {
     "iopub.execute_input": "2022-04-30T21:53:14.894182Z",
     "iopub.status.busy": "2022-04-30T21:53:14.893710Z",
     "iopub.status.idle": "2022-04-30T21:53:14.938219Z",
     "shell.execute_reply": "2022-04-30T21:53:14.937604Z"
    },
    "papermill": {
     "duration": 0.117861,
     "end_time": "2022-04-30T21:53:14.940179",
     "exception": false,
     "start_time": "2022-04-30T21:53:14.822318",
     "status": "completed"
    },
    "tags": []
   },
   "outputs": [
    {
     "data": {
      "text/html": [
       "<div>\n",
       "<style scoped>\n",
       "    .dataframe tbody tr th:only-of-type {\n",
       "        vertical-align: middle;\n",
       "    }\n",
       "\n",
       "    .dataframe tbody tr th {\n",
       "        vertical-align: top;\n",
       "    }\n",
       "\n",
       "    .dataframe thead th {\n",
       "        text-align: right;\n",
       "    }\n",
       "</style>\n",
       "<table border=\"1\" class=\"dataframe\">\n",
       "  <thead>\n",
       "    <tr style=\"text-align: right;\">\n",
       "      <th></th>\n",
       "      <th>Unnamed: 0</th>\n",
       "      <th>yearsofexperience</th>\n",
       "      <th>yearsatcompany</th>\n",
       "      <th>stockgrantvalue</th>\n",
       "      <th>bonus</th>\n",
       "      <th>cityid</th>\n",
       "      <th>Masters_Degree</th>\n",
       "      <th>Bachelors_Degree</th>\n",
       "      <th>Doctorate_Degree</th>\n",
       "      <th>Highschool</th>\n",
       "      <th>Some_College</th>\n",
       "      <th>Race_Asian</th>\n",
       "      <th>Race_White</th>\n",
       "      <th>Race_Two_Or_More</th>\n",
       "      <th>Race_Black</th>\n",
       "      <th>Race_Hispanic</th>\n",
       "    </tr>\n",
       "  </thead>\n",
       "  <tbody>\n",
       "    <tr>\n",
       "      <th>0</th>\n",
       "      <td>0</td>\n",
       "      <td>2.0</td>\n",
       "      <td>0.0</td>\n",
       "      <td>0.0</td>\n",
       "      <td>20000.0</td>\n",
       "      <td>7839</td>\n",
       "      <td>1</td>\n",
       "      <td>0</td>\n",
       "      <td>0</td>\n",
       "      <td>0</td>\n",
       "      <td>0</td>\n",
       "      <td>0</td>\n",
       "      <td>0</td>\n",
       "      <td>0</td>\n",
       "      <td>0</td>\n",
       "      <td>1</td>\n",
       "    </tr>\n",
       "    <tr>\n",
       "      <th>1</th>\n",
       "      <td>1</td>\n",
       "      <td>15.0</td>\n",
       "      <td>4.0</td>\n",
       "      <td>0.0</td>\n",
       "      <td>23000.0</td>\n",
       "      <td>8909</td>\n",
       "      <td>0</td>\n",
       "      <td>0</td>\n",
       "      <td>0</td>\n",
       "      <td>0</td>\n",
       "      <td>0</td>\n",
       "      <td>0</td>\n",
       "      <td>0</td>\n",
       "      <td>0</td>\n",
       "      <td>0</td>\n",
       "      <td>0</td>\n",
       "    </tr>\n",
       "    <tr>\n",
       "      <th>2</th>\n",
       "      <td>2</td>\n",
       "      <td>2.0</td>\n",
       "      <td>0.0</td>\n",
       "      <td>29000.0</td>\n",
       "      <td>23000.0</td>\n",
       "      <td>10182</td>\n",
       "      <td>0</td>\n",
       "      <td>1</td>\n",
       "      <td>0</td>\n",
       "      <td>0</td>\n",
       "      <td>0</td>\n",
       "      <td>0</td>\n",
       "      <td>1</td>\n",
       "      <td>0</td>\n",
       "      <td>0</td>\n",
       "      <td>0</td>\n",
       "    </tr>\n",
       "    <tr>\n",
       "      <th>3</th>\n",
       "      <td>3</td>\n",
       "      <td>1.0</td>\n",
       "      <td>1.0</td>\n",
       "      <td>65000.0</td>\n",
       "      <td>30000.0</td>\n",
       "      <td>7392</td>\n",
       "      <td>1</td>\n",
       "      <td>0</td>\n",
       "      <td>0</td>\n",
       "      <td>0</td>\n",
       "      <td>0</td>\n",
       "      <td>1</td>\n",
       "      <td>0</td>\n",
       "      <td>0</td>\n",
       "      <td>0</td>\n",
       "      <td>0</td>\n",
       "    </tr>\n",
       "    <tr>\n",
       "      <th>4</th>\n",
       "      <td>4</td>\n",
       "      <td>9.0</td>\n",
       "      <td>0.0</td>\n",
       "      <td>12000.0</td>\n",
       "      <td>15000.0</td>\n",
       "      <td>8816</td>\n",
       "      <td>0</td>\n",
       "      <td>1</td>\n",
       "      <td>0</td>\n",
       "      <td>0</td>\n",
       "      <td>0</td>\n",
       "      <td>1</td>\n",
       "      <td>0</td>\n",
       "      <td>0</td>\n",
       "      <td>0</td>\n",
       "      <td>0</td>\n",
       "    </tr>\n",
       "    <tr>\n",
       "      <th>...</th>\n",
       "      <td>...</td>\n",
       "      <td>...</td>\n",
       "      <td>...</td>\n",
       "      <td>...</td>\n",
       "      <td>...</td>\n",
       "      <td>...</td>\n",
       "      <td>...</td>\n",
       "      <td>...</td>\n",
       "      <td>...</td>\n",
       "      <td>...</td>\n",
       "      <td>...</td>\n",
       "      <td>...</td>\n",
       "      <td>...</td>\n",
       "      <td>...</td>\n",
       "      <td>...</td>\n",
       "      <td>...</td>\n",
       "    </tr>\n",
       "    <tr>\n",
       "      <th>50108</th>\n",
       "      <td>50108</td>\n",
       "      <td>12.0</td>\n",
       "      <td>1.0</td>\n",
       "      <td>10000.0</td>\n",
       "      <td>0.0</td>\n",
       "      <td>7419</td>\n",
       "      <td>0</td>\n",
       "      <td>0</td>\n",
       "      <td>0</td>\n",
       "      <td>0</td>\n",
       "      <td>0</td>\n",
       "      <td>0</td>\n",
       "      <td>0</td>\n",
       "      <td>0</td>\n",
       "      <td>0</td>\n",
       "      <td>0</td>\n",
       "    </tr>\n",
       "    <tr>\n",
       "      <th>50109</th>\n",
       "      <td>50109</td>\n",
       "      <td>10.0</td>\n",
       "      <td>0.0</td>\n",
       "      <td>39000.0</td>\n",
       "      <td>29000.0</td>\n",
       "      <td>40303</td>\n",
       "      <td>0</td>\n",
       "      <td>0</td>\n",
       "      <td>0</td>\n",
       "      <td>0</td>\n",
       "      <td>0</td>\n",
       "      <td>0</td>\n",
       "      <td>0</td>\n",
       "      <td>0</td>\n",
       "      <td>0</td>\n",
       "      <td>0</td>\n",
       "    </tr>\n",
       "    <tr>\n",
       "      <th>50110</th>\n",
       "      <td>50110</td>\n",
       "      <td>6.0</td>\n",
       "      <td>0.0</td>\n",
       "      <td>91000.0</td>\n",
       "      <td>28000.0</td>\n",
       "      <td>7419</td>\n",
       "      <td>0</td>\n",
       "      <td>0</td>\n",
       "      <td>0</td>\n",
       "      <td>0</td>\n",
       "      <td>0</td>\n",
       "      <td>0</td>\n",
       "      <td>0</td>\n",
       "      <td>0</td>\n",
       "      <td>0</td>\n",
       "      <td>0</td>\n",
       "    </tr>\n",
       "    <tr>\n",
       "      <th>50111</th>\n",
       "      <td>50111</td>\n",
       "      <td>2.0</td>\n",
       "      <td>2.0</td>\n",
       "      <td>75000.0</td>\n",
       "      <td>0.0</td>\n",
       "      <td>7351</td>\n",
       "      <td>0</td>\n",
       "      <td>0</td>\n",
       "      <td>0</td>\n",
       "      <td>0</td>\n",
       "      <td>0</td>\n",
       "      <td>0</td>\n",
       "      <td>0</td>\n",
       "      <td>0</td>\n",
       "      <td>0</td>\n",
       "      <td>0</td>\n",
       "    </tr>\n",
       "    <tr>\n",
       "      <th>50112</th>\n",
       "      <td>50112</td>\n",
       "      <td>6.0</td>\n",
       "      <td>6.0</td>\n",
       "      <td>0.0</td>\n",
       "      <td>14000.0</td>\n",
       "      <td>7422</td>\n",
       "      <td>0</td>\n",
       "      <td>0</td>\n",
       "      <td>0</td>\n",
       "      <td>0</td>\n",
       "      <td>0</td>\n",
       "      <td>0</td>\n",
       "      <td>0</td>\n",
       "      <td>0</td>\n",
       "      <td>0</td>\n",
       "      <td>0</td>\n",
       "    </tr>\n",
       "  </tbody>\n",
       "</table>\n",
       "<p>50113 rows × 16 columns</p>\n",
       "</div>"
      ],
      "text/plain": [
       "       Unnamed: 0  yearsofexperience  yearsatcompany  stockgrantvalue  \\\n",
       "0               0                2.0             0.0              0.0   \n",
       "1               1               15.0             4.0              0.0   \n",
       "2               2                2.0             0.0          29000.0   \n",
       "3               3                1.0             1.0          65000.0   \n",
       "4               4                9.0             0.0          12000.0   \n",
       "...           ...                ...             ...              ...   \n",
       "50108       50108               12.0             1.0          10000.0   \n",
       "50109       50109               10.0             0.0          39000.0   \n",
       "50110       50110                6.0             0.0          91000.0   \n",
       "50111       50111                2.0             2.0          75000.0   \n",
       "50112       50112                6.0             6.0              0.0   \n",
       "\n",
       "         bonus  cityid  Masters_Degree  Bachelors_Degree  Doctorate_Degree  \\\n",
       "0      20000.0    7839               1                 0                 0   \n",
       "1      23000.0    8909               0                 0                 0   \n",
       "2      23000.0   10182               0                 1                 0   \n",
       "3      30000.0    7392               1                 0                 0   \n",
       "4      15000.0    8816               0                 1                 0   \n",
       "...        ...     ...             ...               ...               ...   \n",
       "50108      0.0    7419               0                 0                 0   \n",
       "50109  29000.0   40303               0                 0                 0   \n",
       "50110  28000.0    7419               0                 0                 0   \n",
       "50111      0.0    7351               0                 0                 0   \n",
       "50112  14000.0    7422               0                 0                 0   \n",
       "\n",
       "       Highschool  Some_College  Race_Asian  Race_White  Race_Two_Or_More  \\\n",
       "0               0             0           0           0                 0   \n",
       "1               0             0           0           0                 0   \n",
       "2               0             0           0           1                 0   \n",
       "3               0             0           1           0                 0   \n",
       "4               0             0           1           0                 0   \n",
       "...           ...           ...         ...         ...               ...   \n",
       "50108           0             0           0           0                 0   \n",
       "50109           0             0           0           0                 0   \n",
       "50110           0             0           0           0                 0   \n",
       "50111           0             0           0           0                 0   \n",
       "50112           0             0           0           0                 0   \n",
       "\n",
       "       Race_Black  Race_Hispanic  \n",
       "0               0              1  \n",
       "1               0              0  \n",
       "2               0              0  \n",
       "3               0              0  \n",
       "4               0              0  \n",
       "...           ...            ...  \n",
       "50108           0              0  \n",
       "50109           0              0  \n",
       "50110           0              0  \n",
       "50111           0              0  \n",
       "50112           0              0  \n",
       "\n",
       "[50113 rows x 16 columns]"
      ]
     },
     "execution_count": 32,
     "metadata": {},
     "output_type": "execute_result"
    }
   ],
   "source": [
    "X_train = train.drop(labels=['totalyearlycompensation'], axis=1)\n",
    "y_train = train.loc[:, 'totalyearlycompensation']\n",
    "\n",
    "X_train = X_train.select_dtypes(include=['float64', 'int64']).drop([\"year\"], axis = 1)\n",
    "X_train"
   ]
  },
  {
   "cell_type": "code",
   "execution_count": 33,
   "id": "00df8932",
   "metadata": {
    "execution": {
     "iopub.execute_input": "2022-04-30T21:53:15.089628Z",
     "iopub.status.busy": "2022-04-30T21:53:15.089336Z",
     "iopub.status.idle": "2022-04-30T21:53:15.151807Z",
     "shell.execute_reply": "2022-04-30T21:53:15.150992Z"
    },
    "papermill": {
     "duration": 0.142879,
     "end_time": "2022-04-30T21:53:15.154887",
     "exception": false,
     "start_time": "2022-04-30T21:53:15.012008",
     "status": "completed"
    },
    "tags": []
   },
   "outputs": [
    {
     "data": {
      "text/html": [
       "<div>\n",
       "<style scoped>\n",
       "    .dataframe tbody tr th:only-of-type {\n",
       "        vertical-align: middle;\n",
       "    }\n",
       "\n",
       "    .dataframe tbody tr th {\n",
       "        vertical-align: top;\n",
       "    }\n",
       "\n",
       "    .dataframe thead th {\n",
       "        text-align: right;\n",
       "    }\n",
       "</style>\n",
       "<table border=\"1\" class=\"dataframe\">\n",
       "  <thead>\n",
       "    <tr style=\"text-align: right;\">\n",
       "      <th></th>\n",
       "      <th>Unnamed: 0</th>\n",
       "      <th>timestamp</th>\n",
       "      <th>company</th>\n",
       "      <th>level</th>\n",
       "      <th>title</th>\n",
       "      <th>totalyearlycompensation</th>\n",
       "      <th>location</th>\n",
       "      <th>yearsofexperience</th>\n",
       "      <th>yearsatcompany</th>\n",
       "      <th>tag</th>\n",
       "      <th>...</th>\n",
       "      <th>Doctorate_Degree</th>\n",
       "      <th>Highschool</th>\n",
       "      <th>Some_College</th>\n",
       "      <th>Race_Asian</th>\n",
       "      <th>Race_White</th>\n",
       "      <th>Race_Two_Or_More</th>\n",
       "      <th>Race_Black</th>\n",
       "      <th>Race_Hispanic</th>\n",
       "      <th>Race</th>\n",
       "      <th>Education</th>\n",
       "    </tr>\n",
       "  </thead>\n",
       "  <tbody>\n",
       "    <tr>\n",
       "      <th>0</th>\n",
       "      <td>0</td>\n",
       "      <td>3/28/2021 15:48:22</td>\n",
       "      <td>Ernst and Young</td>\n",
       "      <td>Senior Consultant</td>\n",
       "      <td>Management Consultant</td>\n",
       "      <td>135000.0</td>\n",
       "      <td>Atlanta, GA</td>\n",
       "      <td>2.0</td>\n",
       "      <td>0.0</td>\n",
       "      <td>Data &amp; Analytics Consulting</td>\n",
       "      <td>...</td>\n",
       "      <td>0</td>\n",
       "      <td>0</td>\n",
       "      <td>0</td>\n",
       "      <td>0</td>\n",
       "      <td>0</td>\n",
       "      <td>0</td>\n",
       "      <td>0</td>\n",
       "      <td>1</td>\n",
       "      <td>Hispanic</td>\n",
       "      <td>Master's Degree</td>\n",
       "    </tr>\n",
       "    <tr>\n",
       "      <th>1</th>\n",
       "      <td>1</td>\n",
       "      <td>4/3/2021 18:41:29</td>\n",
       "      <td>Deloitte</td>\n",
       "      <td>Senior Manager</td>\n",
       "      <td>Management Consultant</td>\n",
       "      <td>216000.0</td>\n",
       "      <td>Baltimore, MD</td>\n",
       "      <td>15.0</td>\n",
       "      <td>4.0</td>\n",
       "      <td>General</td>\n",
       "      <td>...</td>\n",
       "      <td>0</td>\n",
       "      <td>0</td>\n",
       "      <td>0</td>\n",
       "      <td>0</td>\n",
       "      <td>0</td>\n",
       "      <td>0</td>\n",
       "      <td>0</td>\n",
       "      <td>0</td>\n",
       "      <td>NaN</td>\n",
       "      <td>NaN</td>\n",
       "    </tr>\n",
       "    <tr>\n",
       "      <th>2</th>\n",
       "      <td>2</td>\n",
       "      <td>2/2/2021 13:05:18</td>\n",
       "      <td>Amazon</td>\n",
       "      <td>L4</td>\n",
       "      <td>Software Engineer</td>\n",
       "      <td>192000.0</td>\n",
       "      <td>New York, NY</td>\n",
       "      <td>2.0</td>\n",
       "      <td>0.0</td>\n",
       "      <td>API Development (Back-End)</td>\n",
       "      <td>...</td>\n",
       "      <td>0</td>\n",
       "      <td>0</td>\n",
       "      <td>0</td>\n",
       "      <td>0</td>\n",
       "      <td>1</td>\n",
       "      <td>0</td>\n",
       "      <td>0</td>\n",
       "      <td>0</td>\n",
       "      <td>White</td>\n",
       "      <td>Bachelor's Degree</td>\n",
       "    </tr>\n",
       "    <tr>\n",
       "      <th>3</th>\n",
       "      <td>3</td>\n",
       "      <td>7/19/2021 1:37:17</td>\n",
       "      <td>Oracle</td>\n",
       "      <td>IC-2</td>\n",
       "      <td>Software Engineer</td>\n",
       "      <td>235000.0</td>\n",
       "      <td>Redwood City, CA</td>\n",
       "      <td>1.0</td>\n",
       "      <td>1.0</td>\n",
       "      <td>Distributed Systems (Back-End)</td>\n",
       "      <td>...</td>\n",
       "      <td>0</td>\n",
       "      <td>0</td>\n",
       "      <td>0</td>\n",
       "      <td>1</td>\n",
       "      <td>0</td>\n",
       "      <td>0</td>\n",
       "      <td>0</td>\n",
       "      <td>0</td>\n",
       "      <td>Asian</td>\n",
       "      <td>Master's Degree</td>\n",
       "    </tr>\n",
       "    <tr>\n",
       "      <th>4</th>\n",
       "      <td>4</td>\n",
       "      <td>3/29/2021 21:27:36</td>\n",
       "      <td>Wayfair</td>\n",
       "      <td>L3</td>\n",
       "      <td>Software Engineer</td>\n",
       "      <td>177000.0</td>\n",
       "      <td>Boston, MA</td>\n",
       "      <td>9.0</td>\n",
       "      <td>0.0</td>\n",
       "      <td>API Development (Back-End)</td>\n",
       "      <td>...</td>\n",
       "      <td>0</td>\n",
       "      <td>0</td>\n",
       "      <td>0</td>\n",
       "      <td>1</td>\n",
       "      <td>0</td>\n",
       "      <td>0</td>\n",
       "      <td>0</td>\n",
       "      <td>0</td>\n",
       "      <td>Asian</td>\n",
       "      <td>Bachelor's Degree</td>\n",
       "    </tr>\n",
       "    <tr>\n",
       "      <th>...</th>\n",
       "      <td>...</td>\n",
       "      <td>...</td>\n",
       "      <td>...</td>\n",
       "      <td>...</td>\n",
       "      <td>...</td>\n",
       "      <td>...</td>\n",
       "      <td>...</td>\n",
       "      <td>...</td>\n",
       "      <td>...</td>\n",
       "      <td>...</td>\n",
       "      <td>...</td>\n",
       "      <td>...</td>\n",
       "      <td>...</td>\n",
       "      <td>...</td>\n",
       "      <td>...</td>\n",
       "      <td>...</td>\n",
       "      <td>...</td>\n",
       "      <td>...</td>\n",
       "      <td>...</td>\n",
       "      <td>...</td>\n",
       "      <td>...</td>\n",
       "    </tr>\n",
       "    <tr>\n",
       "      <th>12524</th>\n",
       "      <td>12524</td>\n",
       "      <td>11/19/2020 11:05:52</td>\n",
       "      <td>Apple</td>\n",
       "      <td>ICT4</td>\n",
       "      <td>Software Engineer</td>\n",
       "      <td>NaN</td>\n",
       "      <td>Sunnyvale, CA</td>\n",
       "      <td>8.0</td>\n",
       "      <td>3.0</td>\n",
       "      <td>Security</td>\n",
       "      <td>...</td>\n",
       "      <td>0</td>\n",
       "      <td>0</td>\n",
       "      <td>0</td>\n",
       "      <td>0</td>\n",
       "      <td>0</td>\n",
       "      <td>0</td>\n",
       "      <td>0</td>\n",
       "      <td>0</td>\n",
       "      <td>NaN</td>\n",
       "      <td>NaN</td>\n",
       "    </tr>\n",
       "    <tr>\n",
       "      <th>12525</th>\n",
       "      <td>12525</td>\n",
       "      <td>8/15/2021 10:39:36</td>\n",
       "      <td>Amazon</td>\n",
       "      <td>L7</td>\n",
       "      <td>Product Manager</td>\n",
       "      <td>NaN</td>\n",
       "      <td>Seattle, WA</td>\n",
       "      <td>17.0</td>\n",
       "      <td>10.0</td>\n",
       "      <td>Operations</td>\n",
       "      <td>...</td>\n",
       "      <td>0</td>\n",
       "      <td>0</td>\n",
       "      <td>0</td>\n",
       "      <td>1</td>\n",
       "      <td>0</td>\n",
       "      <td>0</td>\n",
       "      <td>0</td>\n",
       "      <td>0</td>\n",
       "      <td>Asian</td>\n",
       "      <td>Master's Degree</td>\n",
       "    </tr>\n",
       "    <tr>\n",
       "      <th>12526</th>\n",
       "      <td>12526</td>\n",
       "      <td>6/17/2021 15:50:48</td>\n",
       "      <td>AMD</td>\n",
       "      <td>Senior MTS</td>\n",
       "      <td>Hardware Engineer</td>\n",
       "      <td>NaN</td>\n",
       "      <td>Santa Clara, CA</td>\n",
       "      <td>11.0</td>\n",
       "      <td>0.0</td>\n",
       "      <td>ASIC Design</td>\n",
       "      <td>...</td>\n",
       "      <td>0</td>\n",
       "      <td>0</td>\n",
       "      <td>0</td>\n",
       "      <td>1</td>\n",
       "      <td>0</td>\n",
       "      <td>0</td>\n",
       "      <td>0</td>\n",
       "      <td>0</td>\n",
       "      <td>Asian</td>\n",
       "      <td>Master's Degree</td>\n",
       "    </tr>\n",
       "    <tr>\n",
       "      <th>12527</th>\n",
       "      <td>12527</td>\n",
       "      <td>12/16/2020 11:53:22</td>\n",
       "      <td>Google</td>\n",
       "      <td>5</td>\n",
       "      <td>Solution Architect</td>\n",
       "      <td>NaN</td>\n",
       "      <td>Norfolk, VA</td>\n",
       "      <td>10.0</td>\n",
       "      <td>1.0</td>\n",
       "      <td>Cloud</td>\n",
       "      <td>...</td>\n",
       "      <td>0</td>\n",
       "      <td>0</td>\n",
       "      <td>0</td>\n",
       "      <td>0</td>\n",
       "      <td>1</td>\n",
       "      <td>0</td>\n",
       "      <td>0</td>\n",
       "      <td>0</td>\n",
       "      <td>White</td>\n",
       "      <td>Bachelor's Degree</td>\n",
       "    </tr>\n",
       "    <tr>\n",
       "      <th>12528</th>\n",
       "      <td>12528</td>\n",
       "      <td>3/4/2021 0:47:34</td>\n",
       "      <td>Facebook</td>\n",
       "      <td>IC3</td>\n",
       "      <td>Software Engineer</td>\n",
       "      <td>NaN</td>\n",
       "      <td>San Francisco, CA</td>\n",
       "      <td>2.0</td>\n",
       "      <td>2.0</td>\n",
       "      <td>ML / AI</td>\n",
       "      <td>...</td>\n",
       "      <td>0</td>\n",
       "      <td>0</td>\n",
       "      <td>0</td>\n",
       "      <td>0</td>\n",
       "      <td>0</td>\n",
       "      <td>0</td>\n",
       "      <td>0</td>\n",
       "      <td>0</td>\n",
       "      <td>NaN</td>\n",
       "      <td>Master's Degree</td>\n",
       "    </tr>\n",
       "  </tbody>\n",
       "</table>\n",
       "<p>62642 rows × 27 columns</p>\n",
       "</div>"
      ],
      "text/plain": [
       "       Unnamed: 0            timestamp          company              level  \\\n",
       "0               0   3/28/2021 15:48:22  Ernst and Young  Senior Consultant   \n",
       "1               1    4/3/2021 18:41:29         Deloitte     Senior Manager   \n",
       "2               2    2/2/2021 13:05:18           Amazon                 L4   \n",
       "3               3    7/19/2021 1:37:17           Oracle               IC-2   \n",
       "4               4   3/29/2021 21:27:36          Wayfair                 L3   \n",
       "...           ...                  ...              ...                ...   \n",
       "12524       12524  11/19/2020 11:05:52            Apple               ICT4   \n",
       "12525       12525   8/15/2021 10:39:36           Amazon                 L7   \n",
       "12526       12526   6/17/2021 15:50:48              AMD         Senior MTS   \n",
       "12527       12527  12/16/2020 11:53:22           Google                  5   \n",
       "12528       12528     3/4/2021 0:47:34         Facebook                IC3   \n",
       "\n",
       "                       title  totalyearlycompensation           location  \\\n",
       "0      Management Consultant                 135000.0        Atlanta, GA   \n",
       "1      Management Consultant                 216000.0      Baltimore, MD   \n",
       "2          Software Engineer                 192000.0       New York, NY   \n",
       "3          Software Engineer                 235000.0   Redwood City, CA   \n",
       "4          Software Engineer                 177000.0         Boston, MA   \n",
       "...                      ...                      ...                ...   \n",
       "12524      Software Engineer                      NaN      Sunnyvale, CA   \n",
       "12525        Product Manager                      NaN        Seattle, WA   \n",
       "12526      Hardware Engineer                      NaN    Santa Clara, CA   \n",
       "12527     Solution Architect                      NaN        Norfolk, VA   \n",
       "12528      Software Engineer                      NaN  San Francisco, CA   \n",
       "\n",
       "       yearsofexperience  yearsatcompany                             tag  ...  \\\n",
       "0                    2.0             0.0     Data & Analytics Consulting  ...   \n",
       "1                   15.0             4.0                         General  ...   \n",
       "2                    2.0             0.0      API Development (Back-End)  ...   \n",
       "3                    1.0             1.0  Distributed Systems (Back-End)  ...   \n",
       "4                    9.0             0.0      API Development (Back-End)  ...   \n",
       "...                  ...             ...                             ...  ...   \n",
       "12524                8.0             3.0                        Security  ...   \n",
       "12525               17.0            10.0                      Operations  ...   \n",
       "12526               11.0             0.0                     ASIC Design  ...   \n",
       "12527               10.0             1.0                           Cloud  ...   \n",
       "12528                2.0             2.0                         ML / AI  ...   \n",
       "\n",
       "       Doctorate_Degree  Highschool Some_College Race_Asian  Race_White  \\\n",
       "0                     0           0            0          0           0   \n",
       "1                     0           0            0          0           0   \n",
       "2                     0           0            0          0           1   \n",
       "3                     0           0            0          1           0   \n",
       "4                     0           0            0          1           0   \n",
       "...                 ...         ...          ...        ...         ...   \n",
       "12524                 0           0            0          0           0   \n",
       "12525                 0           0            0          1           0   \n",
       "12526                 0           0            0          1           0   \n",
       "12527                 0           0            0          0           1   \n",
       "12528                 0           0            0          0           0   \n",
       "\n",
       "       Race_Two_Or_More  Race_Black  Race_Hispanic      Race  \\\n",
       "0                     0           0              1  Hispanic   \n",
       "1                     0           0              0       NaN   \n",
       "2                     0           0              0     White   \n",
       "3                     0           0              0     Asian   \n",
       "4                     0           0              0     Asian   \n",
       "...                 ...         ...            ...       ...   \n",
       "12524                 0           0              0       NaN   \n",
       "12525                 0           0              0     Asian   \n",
       "12526                 0           0              0     Asian   \n",
       "12527                 0           0              0     White   \n",
       "12528                 0           0              0       NaN   \n",
       "\n",
       "               Education  \n",
       "0        Master's Degree  \n",
       "1                    NaN  \n",
       "2      Bachelor's Degree  \n",
       "3        Master's Degree  \n",
       "4      Bachelor's Degree  \n",
       "...                  ...  \n",
       "12524                NaN  \n",
       "12525    Master's Degree  \n",
       "12526    Master's Degree  \n",
       "12527  Bachelor's Degree  \n",
       "12528    Master's Degree  \n",
       "\n",
       "[62642 rows x 27 columns]"
      ]
     },
     "execution_count": 33,
     "metadata": {},
     "output_type": "execute_result"
    }
   ],
   "source": [
    "train_test"
   ]
  },
  {
   "cell_type": "code",
   "execution_count": 34,
   "id": "0723d57e",
   "metadata": {
    "execution": {
     "iopub.execute_input": "2022-04-30T21:53:15.300068Z",
     "iopub.status.busy": "2022-04-30T21:53:15.299415Z",
     "iopub.status.idle": "2022-04-30T21:53:15.400273Z",
     "shell.execute_reply": "2022-04-30T21:53:15.399470Z"
    },
    "papermill": {
     "duration": 0.175333,
     "end_time": "2022-04-30T21:53:15.402554",
     "exception": false,
     "start_time": "2022-04-30T21:53:15.227221",
     "status": "completed"
    },
    "tags": []
   },
   "outputs": [],
   "source": [
    "from sklearn.model_selection import train_test_split\n",
    "X_train, X_val, y_train, y_val = train_test_split(X_train, y_train, test_size=.2, random_state=42)"
   ]
  },
  {
   "cell_type": "code",
   "execution_count": 35,
   "id": "d6f3da84",
   "metadata": {
    "execution": {
     "iopub.execute_input": "2022-04-30T21:53:15.549571Z",
     "iopub.status.busy": "2022-04-30T21:53:15.549008Z",
     "iopub.status.idle": "2022-04-30T21:53:15.554301Z",
     "shell.execute_reply": "2022-04-30T21:53:15.553693Z"
    },
    "papermill": {
     "duration": 0.081155,
     "end_time": "2022-04-30T21:53:15.556408",
     "exception": false,
     "start_time": "2022-04-30T21:53:15.475253",
     "status": "completed"
    },
    "tags": []
   },
   "outputs": [],
   "source": [
    "from sklearn.metrics import mean_squared_error\n",
    "def rmse(y_true, y_pred):\n",
    "    return np.sqrt(np.mean(np.abs(y_true - y_pred)**2))"
   ]
  },
  {
   "cell_type": "code",
   "execution_count": 36,
   "id": "dc26c600",
   "metadata": {
    "execution": {
     "iopub.execute_input": "2022-04-30T21:53:15.730436Z",
     "iopub.status.busy": "2022-04-30T21:53:15.729841Z",
     "iopub.status.idle": "2022-04-30T21:53:15.852861Z",
     "shell.execute_reply": "2022-04-30T21:53:15.851744Z"
    },
    "papermill": {
     "duration": 0.210762,
     "end_time": "2022-04-30T21:53:15.856257",
     "exception": false,
     "start_time": "2022-04-30T21:53:15.645495",
     "status": "completed"
    },
    "tags": []
   },
   "outputs": [
    {
     "data": {
      "text/plain": [
       "LinearRegression()"
      ]
     },
     "execution_count": 36,
     "metadata": {},
     "output_type": "execute_result"
    }
   ],
   "source": [
    "from sklearn.linear_model import LinearRegression\n",
    "\n",
    "lr = LinearRegression()\n",
    "\n",
    "lr.fit(X_train, y_train)"
   ]
  },
  {
   "cell_type": "code",
   "execution_count": 37,
   "id": "7ff5bff1",
   "metadata": {
    "execution": {
     "iopub.execute_input": "2022-04-30T21:53:16.049727Z",
     "iopub.status.busy": "2022-04-30T21:53:16.049458Z",
     "iopub.status.idle": "2022-04-30T21:53:16.069412Z",
     "shell.execute_reply": "2022-04-30T21:53:16.068280Z"
    },
    "papermill": {
     "duration": 0.09711,
     "end_time": "2022-04-30T21:53:16.072740",
     "exception": false,
     "start_time": "2022-04-30T21:53:15.975630",
     "status": "completed"
    },
    "tags": []
   },
   "outputs": [
    {
     "data": {
      "text/plain": [
       "74636.16915587765"
      ]
     },
     "execution_count": 37,
     "metadata": {},
     "output_type": "execute_result"
    }
   ],
   "source": [
    "lr_train_pred = lr.predict(X_train)\n",
    "\n",
    "rmse(y_train, lr_train_pred)"
   ]
  },
  {
   "cell_type": "code",
   "execution_count": 38,
   "id": "ebcf5e5f",
   "metadata": {
    "execution": {
     "iopub.execute_input": "2022-04-30T21:53:16.269713Z",
     "iopub.status.busy": "2022-04-30T21:53:16.269440Z",
     "iopub.status.idle": "2022-04-30T21:53:16.281766Z",
     "shell.execute_reply": "2022-04-30T21:53:16.280879Z"
    },
    "papermill": {
     "duration": 0.088073,
     "end_time": "2022-04-30T21:53:16.284640",
     "exception": false,
     "start_time": "2022-04-30T21:53:16.196567",
     "status": "completed"
    },
    "tags": []
   },
   "outputs": [
    {
     "data": {
      "text/plain": [
       "78327.83402940318"
      ]
     },
     "execution_count": 38,
     "metadata": {},
     "output_type": "execute_result"
    }
   ],
   "source": [
    "lr_val_pred = lr.predict(X_val)\n",
    "\n",
    "rmse(y_val, lr_val_pred)"
   ]
  },
  {
   "cell_type": "code",
   "execution_count": 39,
   "id": "412bd65b",
   "metadata": {
    "execution": {
     "iopub.execute_input": "2022-04-30T21:53:16.486707Z",
     "iopub.status.busy": "2022-04-30T21:53:16.486412Z",
     "iopub.status.idle": "2022-04-30T21:53:35.300842Z",
     "shell.execute_reply": "2022-04-30T21:53:35.299796Z"
    },
    "papermill": {
     "duration": 18.893614,
     "end_time": "2022-04-30T21:53:35.303387",
     "exception": false,
     "start_time": "2022-04-30T21:53:16.409773",
     "status": "completed"
    },
    "tags": []
   },
   "outputs": [
    {
     "data": {
      "text/plain": [
       "RandomForestRegressor()"
      ]
     },
     "execution_count": 39,
     "metadata": {},
     "output_type": "execute_result"
    }
   ],
   "source": [
    "from sklearn.ensemble import RandomForestRegressor\n",
    "rf = RandomForestRegressor(n_estimators=100)\n",
    "rf.fit(X_train, y_train)"
   ]
  },
  {
   "cell_type": "code",
   "execution_count": 40,
   "id": "b9c50ba0",
   "metadata": {
    "execution": {
     "iopub.execute_input": "2022-04-30T21:53:35.453463Z",
     "iopub.status.busy": "2022-04-30T21:53:35.453183Z",
     "iopub.status.idle": "2022-04-30T21:53:36.883783Z",
     "shell.execute_reply": "2022-04-30T21:53:36.882695Z"
    },
    "papermill": {
     "duration": 1.508432,
     "end_time": "2022-04-30T21:53:36.886138",
     "exception": false,
     "start_time": "2022-04-30T21:53:35.377706",
     "status": "completed"
    },
    "tags": []
   },
   "outputs": [
    {
     "data": {
      "text/plain": [
       "22791.835948765656"
      ]
     },
     "execution_count": 40,
     "metadata": {},
     "output_type": "execute_result"
    }
   ],
   "source": [
    "rf_train_pred = rf.predict(X_train)\n",
    "rmse(y_train, rf_train_pred)"
   ]
  },
  {
   "cell_type": "code",
   "execution_count": 41,
   "id": "30ba1cea",
   "metadata": {
    "execution": {
     "iopub.execute_input": "2022-04-30T21:53:37.036180Z",
     "iopub.status.busy": "2022-04-30T21:53:37.035649Z",
     "iopub.status.idle": "2022-04-30T21:53:37.467696Z",
     "shell.execute_reply": "2022-04-30T21:53:37.466893Z"
    },
    "papermill": {
     "duration": 0.508594,
     "end_time": "2022-04-30T21:53:37.469842",
     "exception": false,
     "start_time": "2022-04-30T21:53:36.961248",
     "status": "completed"
    },
    "tags": []
   },
   "outputs": [
    {
     "data": {
      "text/plain": [
       "56078.14715329259"
      ]
     },
     "execution_count": 41,
     "metadata": {},
     "output_type": "execute_result"
    }
   ],
   "source": [
    "rf_val_pred = rf.predict(X_val)\n",
    "rmse(y_val, rf_val_pred)"
   ]
  },
  {
   "cell_type": "code",
   "execution_count": 42,
   "id": "8cf73f78",
   "metadata": {
    "execution": {
     "iopub.execute_input": "2022-04-30T21:53:37.643045Z",
     "iopub.status.busy": "2022-04-30T21:53:37.642324Z",
     "iopub.status.idle": "2022-04-30T21:53:37.680968Z",
     "shell.execute_reply": "2022-04-30T21:53:37.679803Z"
    },
    "papermill": {
     "duration": 0.136625,
     "end_time": "2022-04-30T21:53:37.685261",
     "exception": false,
     "start_time": "2022-04-30T21:53:37.548636",
     "status": "completed"
    },
    "tags": []
   },
   "outputs": [
    {
     "name": "stdout",
     "output_type": "stream",
     "text": [
      "Root Mean Squared Error of Ridge Model: 7974866637.21\n",
      "R2 of Ridge Model: 0.59\n"
     ]
    }
   ],
   "source": [
    "from sklearn.linear_model import Ridge\n",
    "from sklearn.metrics import mean_squared_error, r2_score\n",
    "\n",
    "lambda_ridge = 0.2\n",
    "\n",
    "ridge_model = Ridge(alpha=lambda_ridge, fit_intercept=False)\n",
    "ridge_model.fit(X_train, y_train)\n",
    "ridge_prediction = ridge_model.predict(X_val)\n",
    "ridge_loss = mean_squared_error(y_val, ridge_prediction)\n",
    "ridge_r2 = r2_score(y_val, ridge_prediction)\n",
    "\n",
    "print(\"Root Mean Squared Error of Ridge Model: {:.2f}\".format(ridge_loss))\n",
    "print(\"R2 of Ridge Model: {:.2f}\".format(ridge_r2))"
   ]
  },
  {
   "cell_type": "code",
   "execution_count": 43,
   "id": "bd881d58",
   "metadata": {
    "execution": {
     "iopub.execute_input": "2022-04-30T21:53:37.893174Z",
     "iopub.status.busy": "2022-04-30T21:53:37.892888Z",
     "iopub.status.idle": "2022-04-30T21:53:37.919310Z",
     "shell.execute_reply": "2022-04-30T21:53:37.918634Z"
    },
    "papermill": {
     "duration": 0.10569,
     "end_time": "2022-04-30T21:53:37.921145",
     "exception": false,
     "start_time": "2022-04-30T21:53:37.815455",
     "status": "completed"
    },
    "tags": []
   },
   "outputs": [
    {
     "data": {
      "text/html": [
       "<div>\n",
       "<style scoped>\n",
       "    .dataframe tbody tr th:only-of-type {\n",
       "        vertical-align: middle;\n",
       "    }\n",
       "\n",
       "    .dataframe tbody tr th {\n",
       "        vertical-align: top;\n",
       "    }\n",
       "\n",
       "    .dataframe thead th {\n",
       "        text-align: right;\n",
       "    }\n",
       "</style>\n",
       "<table border=\"1\" class=\"dataframe\">\n",
       "  <thead>\n",
       "    <tr style=\"text-align: right;\">\n",
       "      <th></th>\n",
       "      <th>Unnamed: 0</th>\n",
       "      <th>yearsofexperience</th>\n",
       "      <th>yearsatcompany</th>\n",
       "      <th>stockgrantvalue</th>\n",
       "      <th>bonus</th>\n",
       "      <th>cityid</th>\n",
       "      <th>Masters_Degree</th>\n",
       "      <th>Bachelors_Degree</th>\n",
       "      <th>Doctorate_Degree</th>\n",
       "      <th>Highschool</th>\n",
       "      <th>Some_College</th>\n",
       "      <th>Race_Asian</th>\n",
       "      <th>Race_White</th>\n",
       "      <th>Race_Two_Or_More</th>\n",
       "      <th>Race_Black</th>\n",
       "      <th>Race_Hispanic</th>\n",
       "    </tr>\n",
       "  </thead>\n",
       "  <tbody>\n",
       "    <tr>\n",
       "      <th>0</th>\n",
       "      <td>0</td>\n",
       "      <td>4.0</td>\n",
       "      <td>0.0</td>\n",
       "      <td>6000.0</td>\n",
       "      <td>15000.0</td>\n",
       "      <td>6580</td>\n",
       "      <td>0</td>\n",
       "      <td>0</td>\n",
       "      <td>0</td>\n",
       "      <td>0</td>\n",
       "      <td>0</td>\n",
       "      <td>0</td>\n",
       "      <td>0</td>\n",
       "      <td>0</td>\n",
       "      <td>0</td>\n",
       "      <td>0</td>\n",
       "    </tr>\n",
       "    <tr>\n",
       "      <th>1</th>\n",
       "      <td>1</td>\n",
       "      <td>10.0</td>\n",
       "      <td>1.0</td>\n",
       "      <td>74000.0</td>\n",
       "      <td>16000.0</td>\n",
       "      <td>8198</td>\n",
       "      <td>0</td>\n",
       "      <td>0</td>\n",
       "      <td>0</td>\n",
       "      <td>0</td>\n",
       "      <td>0</td>\n",
       "      <td>0</td>\n",
       "      <td>0</td>\n",
       "      <td>0</td>\n",
       "      <td>0</td>\n",
       "      <td>0</td>\n",
       "    </tr>\n",
       "    <tr>\n",
       "      <th>2</th>\n",
       "      <td>2</td>\n",
       "      <td>10.0</td>\n",
       "      <td>5.0</td>\n",
       "      <td>40000.0</td>\n",
       "      <td>0.0</td>\n",
       "      <td>1311</td>\n",
       "      <td>0</td>\n",
       "      <td>0</td>\n",
       "      <td>0</td>\n",
       "      <td>0</td>\n",
       "      <td>0</td>\n",
       "      <td>0</td>\n",
       "      <td>0</td>\n",
       "      <td>0</td>\n",
       "      <td>0</td>\n",
       "      <td>0</td>\n",
       "    </tr>\n",
       "    <tr>\n",
       "      <th>3</th>\n",
       "      <td>3</td>\n",
       "      <td>2.0</td>\n",
       "      <td>2.0</td>\n",
       "      <td>0.0</td>\n",
       "      <td>1000.0</td>\n",
       "      <td>9592</td>\n",
       "      <td>0</td>\n",
       "      <td>1</td>\n",
       "      <td>0</td>\n",
       "      <td>0</td>\n",
       "      <td>0</td>\n",
       "      <td>1</td>\n",
       "      <td>0</td>\n",
       "      <td>0</td>\n",
       "      <td>0</td>\n",
       "      <td>0</td>\n",
       "    </tr>\n",
       "    <tr>\n",
       "      <th>4</th>\n",
       "      <td>4</td>\n",
       "      <td>5.0</td>\n",
       "      <td>1.0</td>\n",
       "      <td>15000.0</td>\n",
       "      <td>15000.0</td>\n",
       "      <td>7422</td>\n",
       "      <td>1</td>\n",
       "      <td>0</td>\n",
       "      <td>0</td>\n",
       "      <td>0</td>\n",
       "      <td>0</td>\n",
       "      <td>0</td>\n",
       "      <td>0</td>\n",
       "      <td>0</td>\n",
       "      <td>0</td>\n",
       "      <td>0</td>\n",
       "    </tr>\n",
       "    <tr>\n",
       "      <th>...</th>\n",
       "      <td>...</td>\n",
       "      <td>...</td>\n",
       "      <td>...</td>\n",
       "      <td>...</td>\n",
       "      <td>...</td>\n",
       "      <td>...</td>\n",
       "      <td>...</td>\n",
       "      <td>...</td>\n",
       "      <td>...</td>\n",
       "      <td>...</td>\n",
       "      <td>...</td>\n",
       "      <td>...</td>\n",
       "      <td>...</td>\n",
       "      <td>...</td>\n",
       "      <td>...</td>\n",
       "      <td>...</td>\n",
       "    </tr>\n",
       "    <tr>\n",
       "      <th>12524</th>\n",
       "      <td>12524</td>\n",
       "      <td>8.0</td>\n",
       "      <td>3.0</td>\n",
       "      <td>165000.0</td>\n",
       "      <td>0.0</td>\n",
       "      <td>7472</td>\n",
       "      <td>0</td>\n",
       "      <td>0</td>\n",
       "      <td>0</td>\n",
       "      <td>0</td>\n",
       "      <td>0</td>\n",
       "      <td>0</td>\n",
       "      <td>0</td>\n",
       "      <td>0</td>\n",
       "      <td>0</td>\n",
       "      <td>0</td>\n",
       "    </tr>\n",
       "    <tr>\n",
       "      <th>12525</th>\n",
       "      <td>12525</td>\n",
       "      <td>17.0</td>\n",
       "      <td>10.0</td>\n",
       "      <td>320000.0</td>\n",
       "      <td>0.0</td>\n",
       "      <td>11527</td>\n",
       "      <td>1</td>\n",
       "      <td>0</td>\n",
       "      <td>0</td>\n",
       "      <td>0</td>\n",
       "      <td>0</td>\n",
       "      <td>1</td>\n",
       "      <td>0</td>\n",
       "      <td>0</td>\n",
       "      <td>0</td>\n",
       "      <td>0</td>\n",
       "    </tr>\n",
       "    <tr>\n",
       "      <th>12526</th>\n",
       "      <td>12526</td>\n",
       "      <td>11.0</td>\n",
       "      <td>0.0</td>\n",
       "      <td>30000.0</td>\n",
       "      <td>30000.0</td>\n",
       "      <td>7434</td>\n",
       "      <td>1</td>\n",
       "      <td>0</td>\n",
       "      <td>0</td>\n",
       "      <td>0</td>\n",
       "      <td>0</td>\n",
       "      <td>1</td>\n",
       "      <td>0</td>\n",
       "      <td>0</td>\n",
       "      <td>0</td>\n",
       "      <td>0</td>\n",
       "    </tr>\n",
       "    <tr>\n",
       "      <th>12527</th>\n",
       "      <td>12527</td>\n",
       "      <td>10.0</td>\n",
       "      <td>1.0</td>\n",
       "      <td>75000.0</td>\n",
       "      <td>30000.0</td>\n",
       "      <td>11420</td>\n",
       "      <td>0</td>\n",
       "      <td>1</td>\n",
       "      <td>0</td>\n",
       "      <td>0</td>\n",
       "      <td>0</td>\n",
       "      <td>0</td>\n",
       "      <td>1</td>\n",
       "      <td>0</td>\n",
       "      <td>0</td>\n",
       "      <td>0</td>\n",
       "    </tr>\n",
       "    <tr>\n",
       "      <th>12528</th>\n",
       "      <td>12528</td>\n",
       "      <td>2.0</td>\n",
       "      <td>2.0</td>\n",
       "      <td>51000.0</td>\n",
       "      <td>9000.0</td>\n",
       "      <td>7419</td>\n",
       "      <td>1</td>\n",
       "      <td>0</td>\n",
       "      <td>0</td>\n",
       "      <td>0</td>\n",
       "      <td>0</td>\n",
       "      <td>0</td>\n",
       "      <td>0</td>\n",
       "      <td>0</td>\n",
       "      <td>0</td>\n",
       "      <td>0</td>\n",
       "    </tr>\n",
       "  </tbody>\n",
       "</table>\n",
       "<p>12529 rows × 16 columns</p>\n",
       "</div>"
      ],
      "text/plain": [
       "       Unnamed: 0  yearsofexperience  yearsatcompany  stockgrantvalue  \\\n",
       "0               0                4.0             0.0           6000.0   \n",
       "1               1               10.0             1.0          74000.0   \n",
       "2               2               10.0             5.0          40000.0   \n",
       "3               3                2.0             2.0              0.0   \n",
       "4               4                5.0             1.0          15000.0   \n",
       "...           ...                ...             ...              ...   \n",
       "12524       12524                8.0             3.0         165000.0   \n",
       "12525       12525               17.0            10.0         320000.0   \n",
       "12526       12526               11.0             0.0          30000.0   \n",
       "12527       12527               10.0             1.0          75000.0   \n",
       "12528       12528                2.0             2.0          51000.0   \n",
       "\n",
       "         bonus  cityid  Masters_Degree  Bachelors_Degree  Doctorate_Degree  \\\n",
       "0      15000.0    6580               0                 0                 0   \n",
       "1      16000.0    8198               0                 0                 0   \n",
       "2          0.0    1311               0                 0                 0   \n",
       "3       1000.0    9592               0                 1                 0   \n",
       "4      15000.0    7422               1                 0                 0   \n",
       "...        ...     ...             ...               ...               ...   \n",
       "12524      0.0    7472               0                 0                 0   \n",
       "12525      0.0   11527               1                 0                 0   \n",
       "12526  30000.0    7434               1                 0                 0   \n",
       "12527  30000.0   11420               0                 1                 0   \n",
       "12528   9000.0    7419               1                 0                 0   \n",
       "\n",
       "       Highschool  Some_College  Race_Asian  Race_White  Race_Two_Or_More  \\\n",
       "0               0             0           0           0                 0   \n",
       "1               0             0           0           0                 0   \n",
       "2               0             0           0           0                 0   \n",
       "3               0             0           1           0                 0   \n",
       "4               0             0           0           0                 0   \n",
       "...           ...           ...         ...         ...               ...   \n",
       "12524           0             0           0           0                 0   \n",
       "12525           0             0           1           0                 0   \n",
       "12526           0             0           1           0                 0   \n",
       "12527           0             0           0           1                 0   \n",
       "12528           0             0           0           0                 0   \n",
       "\n",
       "       Race_Black  Race_Hispanic  \n",
       "0               0              0  \n",
       "1               0              0  \n",
       "2               0              0  \n",
       "3               0              0  \n",
       "4               0              0  \n",
       "...           ...            ...  \n",
       "12524           0              0  \n",
       "12525           0              0  \n",
       "12526           0              0  \n",
       "12527           0              0  \n",
       "12528           0              0  \n",
       "\n",
       "[12529 rows x 16 columns]"
      ]
     },
     "execution_count": 43,
     "metadata": {},
     "output_type": "execute_result"
    }
   ],
   "source": [
    "X_test = test.select_dtypes(include=['float64', 'int64'])\n",
    "X_test"
   ]
  },
  {
   "cell_type": "code",
   "execution_count": 44,
   "id": "b79a5e6d",
   "metadata": {
    "execution": {
     "iopub.execute_input": "2022-04-30T21:53:38.076020Z",
     "iopub.status.busy": "2022-04-30T21:53:38.075486Z",
     "iopub.status.idle": "2022-04-30T21:53:38.525837Z",
     "shell.execute_reply": "2022-04-30T21:53:38.525060Z"
    },
    "papermill": {
     "duration": 0.529511,
     "end_time": "2022-04-30T21:53:38.527971",
     "exception": false,
     "start_time": "2022-04-30T21:53:37.998460",
     "status": "completed"
    },
    "tags": []
   },
   "outputs": [
    {
     "data": {
      "text/plain": [
       "array([106850., 260010., 153710., ..., 242930., 300370., 201260.])"
      ]
     },
     "execution_count": 44,
     "metadata": {},
     "output_type": "execute_result"
    }
   ],
   "source": [
    "y_test_pred = rf.predict(X_test)    # Choose best model to predict using\n",
    "y_test_pred"
   ]
  },
  {
   "cell_type": "code",
   "execution_count": 45,
   "id": "1192c99c",
   "metadata": {
    "execution": {
     "iopub.execute_input": "2022-04-30T21:53:38.685489Z",
     "iopub.status.busy": "2022-04-30T21:53:38.684928Z",
     "iopub.status.idle": "2022-04-30T21:53:38.689710Z",
     "shell.execute_reply": "2022-04-30T21:53:38.689027Z"
    },
    "papermill": {
     "duration": 0.086694,
     "end_time": "2022-04-30T21:53:38.691911",
     "exception": false,
     "start_time": "2022-04-30T21:53:38.605217",
     "status": "completed"
    },
    "tags": []
   },
   "outputs": [],
   "source": [
    "from datetime import datetime\n",
    "\n",
    "def results_to_csv(data, y_test):\n",
    "    y_test = y_test.astype(int)\n",
    "    df = pd.DataFrame({'totalyearlycompensation': y_test})\n",
    "    df.to_csv('submission.csv',\n",
    "              index_label='key')"
   ]
  },
  {
   "cell_type": "code",
   "execution_count": 46,
   "id": "8e170386",
   "metadata": {
    "execution": {
     "iopub.execute_input": "2022-04-30T21:53:38.848065Z",
     "iopub.status.busy": "2022-04-30T21:53:38.847495Z",
     "iopub.status.idle": "2022-04-30T21:53:38.882182Z",
     "shell.execute_reply": "2022-04-30T21:53:38.881401Z"
    },
    "papermill": {
     "duration": 0.115183,
     "end_time": "2022-04-30T21:53:38.884440",
     "exception": false,
     "start_time": "2022-04-30T21:53:38.769257",
     "status": "completed"
    },
    "tags": []
   },
   "outputs": [],
   "source": [
    "results_to_csv(\"salary\", y_test_pred)"
   ]
  },
  {
   "cell_type": "code",
   "execution_count": null,
   "id": "9fe75a58",
   "metadata": {
    "papermill": {
     "duration": 0.078027,
     "end_time": "2022-04-30T21:53:39.038463",
     "exception": false,
     "start_time": "2022-04-30T21:53:38.960436",
     "status": "completed"
    },
    "tags": []
   },
   "outputs": [],
   "source": []
  }
 ],
 "metadata": {
  "kernelspec": {
   "display_name": "Python 3",
   "language": "python",
   "name": "python3"
  },
  "language_info": {
   "codemirror_mode": {
    "name": "ipython",
    "version": 3
   },
   "file_extension": ".py",
   "mimetype": "text/x-python",
   "name": "python",
   "nbconvert_exporter": "python",
   "pygments_lexer": "ipython3",
   "version": "3.7.12"
  },
  "papermill": {
   "default_parameters": {},
   "duration": 55.950058,
   "end_time": "2022-04-30T21:53:40.138208",
   "environment_variables": {},
   "exception": null,
   "input_path": "__notebook__.ipynb",
   "output_path": "__notebook__.ipynb",
   "parameters": {},
   "start_time": "2022-04-30T21:52:44.188150",
   "version": "2.3.4"
  }
 },
 "nbformat": 4,
 "nbformat_minor": 5
}
